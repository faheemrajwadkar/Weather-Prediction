{
 "cells": [
  {
   "cell_type": "code",
   "execution_count": 1,
   "metadata": {},
   "outputs": [],
   "source": [
    "# import libraries\n",
    "import pandas as pd\n",
    "import numpy as np\n",
    "import matplotlib.pyplot as plt\n",
    "import seaborn as sns\n",
    "\n",
    "pd.set_option('display.max_columns', None)"
   ]
  },
  {
   "cell_type": "markdown",
   "metadata": {},
   "source": [
    "Ref - https://www.kaggle.com/budincsevity/szeged-weather"
   ]
  },
  {
   "cell_type": "code",
   "execution_count": 2,
   "metadata": {},
   "outputs": [
    {
     "data": {
      "text/html": [
       "<div>\n",
       "<style scoped>\n",
       "    .dataframe tbody tr th:only-of-type {\n",
       "        vertical-align: middle;\n",
       "    }\n",
       "\n",
       "    .dataframe tbody tr th {\n",
       "        vertical-align: top;\n",
       "    }\n",
       "\n",
       "    .dataframe thead th {\n",
       "        text-align: right;\n",
       "    }\n",
       "</style>\n",
       "<table border=\"1\" class=\"dataframe\">\n",
       "  <thead>\n",
       "    <tr style=\"text-align: right;\">\n",
       "      <th></th>\n",
       "      <th>time</th>\n",
       "      <th>summary</th>\n",
       "      <th>precipType</th>\n",
       "      <th>temperature</th>\n",
       "      <th>apparentTemperature</th>\n",
       "      <th>humidity</th>\n",
       "      <th>windSpeed</th>\n",
       "      <th>windBearing</th>\n",
       "      <th>visibility</th>\n",
       "      <th>cloudCover</th>\n",
       "      <th>pressure</th>\n",
       "      <th>summary</th>\n",
       "    </tr>\n",
       "  </thead>\n",
       "  <tbody>\n",
       "    <tr>\n",
       "      <th>0</th>\n",
       "      <td>2006-04-01 00:00:00.000 +0200</td>\n",
       "      <td>Partly Cloudy</td>\n",
       "      <td>rain</td>\n",
       "      <td>9.472222</td>\n",
       "      <td>7.388889</td>\n",
       "      <td>0.89</td>\n",
       "      <td>14.1197</td>\n",
       "      <td>251.0</td>\n",
       "      <td>15.8263</td>\n",
       "      <td>0.0</td>\n",
       "      <td>1015.13</td>\n",
       "      <td>Partly cloudy throughout the day.</td>\n",
       "    </tr>\n",
       "    <tr>\n",
       "      <th>1</th>\n",
       "      <td>2006-04-01 01:00:00.000 +0200</td>\n",
       "      <td>Partly Cloudy</td>\n",
       "      <td>rain</td>\n",
       "      <td>9.355556</td>\n",
       "      <td>7.227778</td>\n",
       "      <td>0.86</td>\n",
       "      <td>14.2646</td>\n",
       "      <td>259.0</td>\n",
       "      <td>15.8263</td>\n",
       "      <td>0.0</td>\n",
       "      <td>1015.63</td>\n",
       "      <td>Partly cloudy throughout the day.</td>\n",
       "    </tr>\n",
       "    <tr>\n",
       "      <th>2</th>\n",
       "      <td>2006-04-01 02:00:00.000 +0200</td>\n",
       "      <td>Mostly Cloudy</td>\n",
       "      <td>rain</td>\n",
       "      <td>9.377778</td>\n",
       "      <td>9.377778</td>\n",
       "      <td>0.89</td>\n",
       "      <td>3.9284</td>\n",
       "      <td>204.0</td>\n",
       "      <td>14.9569</td>\n",
       "      <td>0.0</td>\n",
       "      <td>1015.94</td>\n",
       "      <td>Partly cloudy throughout the day.</td>\n",
       "    </tr>\n",
       "    <tr>\n",
       "      <th>3</th>\n",
       "      <td>2006-04-01 03:00:00.000 +0200</td>\n",
       "      <td>Partly Cloudy</td>\n",
       "      <td>rain</td>\n",
       "      <td>8.288889</td>\n",
       "      <td>5.944444</td>\n",
       "      <td>0.83</td>\n",
       "      <td>14.1036</td>\n",
       "      <td>269.0</td>\n",
       "      <td>15.8263</td>\n",
       "      <td>0.0</td>\n",
       "      <td>1016.41</td>\n",
       "      <td>Partly cloudy throughout the day.</td>\n",
       "    </tr>\n",
       "    <tr>\n",
       "      <th>4</th>\n",
       "      <td>2006-04-01 04:00:00.000 +0200</td>\n",
       "      <td>Mostly Cloudy</td>\n",
       "      <td>rain</td>\n",
       "      <td>8.755556</td>\n",
       "      <td>6.977778</td>\n",
       "      <td>0.83</td>\n",
       "      <td>11.0446</td>\n",
       "      <td>259.0</td>\n",
       "      <td>15.8263</td>\n",
       "      <td>0.0</td>\n",
       "      <td>1016.51</td>\n",
       "      <td>Partly cloudy throughout the day.</td>\n",
       "    </tr>\n",
       "  </tbody>\n",
       "</table>\n",
       "</div>"
      ],
      "text/plain": [
       "                            time        summary precipType  temperature  \\\n",
       "0  2006-04-01 00:00:00.000 +0200  Partly Cloudy       rain     9.472222   \n",
       "1  2006-04-01 01:00:00.000 +0200  Partly Cloudy       rain     9.355556   \n",
       "2  2006-04-01 02:00:00.000 +0200  Mostly Cloudy       rain     9.377778   \n",
       "3  2006-04-01 03:00:00.000 +0200  Partly Cloudy       rain     8.288889   \n",
       "4  2006-04-01 04:00:00.000 +0200  Mostly Cloudy       rain     8.755556   \n",
       "\n",
       "   apparentTemperature  humidity  windSpeed  windBearing  visibility  \\\n",
       "0             7.388889      0.89    14.1197        251.0     15.8263   \n",
       "1             7.227778      0.86    14.2646        259.0     15.8263   \n",
       "2             9.377778      0.89     3.9284        204.0     14.9569   \n",
       "3             5.944444      0.83    14.1036        269.0     15.8263   \n",
       "4             6.977778      0.83    11.0446        259.0     15.8263   \n",
       "\n",
       "   cloudCover  pressure                            summary  \n",
       "0         0.0   1015.13  Partly cloudy throughout the day.  \n",
       "1         0.0   1015.63  Partly cloudy throughout the day.  \n",
       "2         0.0   1015.94  Partly cloudy throughout the day.  \n",
       "3         0.0   1016.41  Partly cloudy throughout the day.  \n",
       "4         0.0   1016.51  Partly cloudy throughout the day.  "
      ]
     },
     "execution_count": 2,
     "metadata": {},
     "output_type": "execute_result"
    }
   ],
   "source": [
    "# import data\n",
    "df = pd.read_csv('weatherHistory.csv')\n",
    "df.columns = ['time', 'summary', 'precipType', 'temperature', 'apparentTemperature', 'humidity', 'windSpeed', 'windBearing', 'visibility', 'cloudCover', 'pressure', 'summary']\n",
    "df.head()"
   ]
  },
  {
   "cell_type": "markdown",
   "metadata": {},
   "source": [
    "# EDA"
   ]
  },
  {
   "cell_type": "code",
   "execution_count": 3,
   "metadata": {},
   "outputs": [],
   "source": [
    "# drop duplicates, if any\n",
    "df.drop_duplicates(inplace=True)"
   ]
  },
  {
   "cell_type": "code",
   "execution_count": 4,
   "metadata": {},
   "outputs": [
    {
     "data": {
      "text/html": [
       "<div>\n",
       "<style scoped>\n",
       "    .dataframe tbody tr th:only-of-type {\n",
       "        vertical-align: middle;\n",
       "    }\n",
       "\n",
       "    .dataframe tbody tr th {\n",
       "        vertical-align: top;\n",
       "    }\n",
       "\n",
       "    .dataframe thead th {\n",
       "        text-align: right;\n",
       "    }\n",
       "</style>\n",
       "<table border=\"1\" class=\"dataframe\">\n",
       "  <thead>\n",
       "    <tr style=\"text-align: right;\">\n",
       "      <th></th>\n",
       "      <th>time</th>\n",
       "      <th>summary</th>\n",
       "      <th>precipType</th>\n",
       "      <th>temperature</th>\n",
       "      <th>apparentTemperature</th>\n",
       "      <th>humidity</th>\n",
       "      <th>windSpeed</th>\n",
       "      <th>windBearing</th>\n",
       "      <th>visibility</th>\n",
       "      <th>cloudCover</th>\n",
       "      <th>pressure</th>\n",
       "      <th>summary</th>\n",
       "    </tr>\n",
       "  </thead>\n",
       "  <tbody>\n",
       "    <tr>\n",
       "      <th>count</th>\n",
       "      <td>96429</td>\n",
       "      <td>96429</td>\n",
       "      <td>95912</td>\n",
       "      <td>96429.000000</td>\n",
       "      <td>96429.000000</td>\n",
       "      <td>96429.000000</td>\n",
       "      <td>96429.000000</td>\n",
       "      <td>96429.000000</td>\n",
       "      <td>96429.000000</td>\n",
       "      <td>96429.0</td>\n",
       "      <td>96429.000000</td>\n",
       "      <td>96429</td>\n",
       "    </tr>\n",
       "    <tr>\n",
       "      <th>unique</th>\n",
       "      <td>96429</td>\n",
       "      <td>27</td>\n",
       "      <td>2</td>\n",
       "      <td>NaN</td>\n",
       "      <td>NaN</td>\n",
       "      <td>NaN</td>\n",
       "      <td>NaN</td>\n",
       "      <td>NaN</td>\n",
       "      <td>NaN</td>\n",
       "      <td>NaN</td>\n",
       "      <td>NaN</td>\n",
       "      <td>214</td>\n",
       "    </tr>\n",
       "    <tr>\n",
       "      <th>top</th>\n",
       "      <td>2012-10-07 14:00:00.000 +0200</td>\n",
       "      <td>Partly Cloudy</td>\n",
       "      <td>rain</td>\n",
       "      <td>NaN</td>\n",
       "      <td>NaN</td>\n",
       "      <td>NaN</td>\n",
       "      <td>NaN</td>\n",
       "      <td>NaN</td>\n",
       "      <td>NaN</td>\n",
       "      <td>NaN</td>\n",
       "      <td>NaN</td>\n",
       "      <td>Mostly cloudy throughout the day.</td>\n",
       "    </tr>\n",
       "    <tr>\n",
       "      <th>freq</th>\n",
       "      <td>1</td>\n",
       "      <td>31726</td>\n",
       "      <td>85200</td>\n",
       "      <td>NaN</td>\n",
       "      <td>NaN</td>\n",
       "      <td>NaN</td>\n",
       "      <td>NaN</td>\n",
       "      <td>NaN</td>\n",
       "      <td>NaN</td>\n",
       "      <td>NaN</td>\n",
       "      <td>NaN</td>\n",
       "      <td>20085</td>\n",
       "    </tr>\n",
       "    <tr>\n",
       "      <th>mean</th>\n",
       "      <td>NaN</td>\n",
       "      <td>NaN</td>\n",
       "      <td>NaN</td>\n",
       "      <td>11.929692</td>\n",
       "      <td>10.851707</td>\n",
       "      <td>0.734902</td>\n",
       "      <td>10.812460</td>\n",
       "      <td>187.497506</td>\n",
       "      <td>10.347225</td>\n",
       "      <td>0.0</td>\n",
       "      <td>1003.232915</td>\n",
       "      <td>NaN</td>\n",
       "    </tr>\n",
       "    <tr>\n",
       "      <th>std</th>\n",
       "      <td>NaN</td>\n",
       "      <td>NaN</td>\n",
       "      <td>NaN</td>\n",
       "      <td>9.550492</td>\n",
       "      <td>10.695743</td>\n",
       "      <td>0.195466</td>\n",
       "      <td>6.913345</td>\n",
       "      <td>107.376423</td>\n",
       "      <td>4.192548</td>\n",
       "      <td>0.0</td>\n",
       "      <td>116.984300</td>\n",
       "      <td>NaN</td>\n",
       "    </tr>\n",
       "    <tr>\n",
       "      <th>min</th>\n",
       "      <td>NaN</td>\n",
       "      <td>NaN</td>\n",
       "      <td>NaN</td>\n",
       "      <td>-21.822222</td>\n",
       "      <td>-27.716667</td>\n",
       "      <td>0.000000</td>\n",
       "      <td>0.000000</td>\n",
       "      <td>0.000000</td>\n",
       "      <td>0.000000</td>\n",
       "      <td>0.0</td>\n",
       "      <td>0.000000</td>\n",
       "      <td>NaN</td>\n",
       "    </tr>\n",
       "    <tr>\n",
       "      <th>25%</th>\n",
       "      <td>NaN</td>\n",
       "      <td>NaN</td>\n",
       "      <td>NaN</td>\n",
       "      <td>4.683333</td>\n",
       "      <td>2.311111</td>\n",
       "      <td>0.600000</td>\n",
       "      <td>5.828200</td>\n",
       "      <td>116.000000</td>\n",
       "      <td>8.339800</td>\n",
       "      <td>0.0</td>\n",
       "      <td>1011.900000</td>\n",
       "      <td>NaN</td>\n",
       "    </tr>\n",
       "    <tr>\n",
       "      <th>50%</th>\n",
       "      <td>NaN</td>\n",
       "      <td>NaN</td>\n",
       "      <td>NaN</td>\n",
       "      <td>12.000000</td>\n",
       "      <td>12.000000</td>\n",
       "      <td>0.780000</td>\n",
       "      <td>9.965900</td>\n",
       "      <td>180.000000</td>\n",
       "      <td>10.046400</td>\n",
       "      <td>0.0</td>\n",
       "      <td>1016.450000</td>\n",
       "      <td>NaN</td>\n",
       "    </tr>\n",
       "    <tr>\n",
       "      <th>75%</th>\n",
       "      <td>NaN</td>\n",
       "      <td>NaN</td>\n",
       "      <td>NaN</td>\n",
       "      <td>18.838889</td>\n",
       "      <td>18.838889</td>\n",
       "      <td>0.890000</td>\n",
       "      <td>14.135800</td>\n",
       "      <td>290.000000</td>\n",
       "      <td>14.812000</td>\n",
       "      <td>0.0</td>\n",
       "      <td>1021.090000</td>\n",
       "      <td>NaN</td>\n",
       "    </tr>\n",
       "    <tr>\n",
       "      <th>max</th>\n",
       "      <td>NaN</td>\n",
       "      <td>NaN</td>\n",
       "      <td>NaN</td>\n",
       "      <td>39.905556</td>\n",
       "      <td>39.344444</td>\n",
       "      <td>1.000000</td>\n",
       "      <td>63.852600</td>\n",
       "      <td>359.000000</td>\n",
       "      <td>16.100000</td>\n",
       "      <td>0.0</td>\n",
       "      <td>1046.380000</td>\n",
       "      <td>NaN</td>\n",
       "    </tr>\n",
       "  </tbody>\n",
       "</table>\n",
       "</div>"
      ],
      "text/plain": [
       "                                 time        summary precipType   temperature  \\\n",
       "count                           96429          96429      95912  96429.000000   \n",
       "unique                          96429             27          2           NaN   \n",
       "top     2012-10-07 14:00:00.000 +0200  Partly Cloudy       rain           NaN   \n",
       "freq                                1          31726      85200           NaN   \n",
       "mean                              NaN            NaN        NaN     11.929692   \n",
       "std                               NaN            NaN        NaN      9.550492   \n",
       "min                               NaN            NaN        NaN    -21.822222   \n",
       "25%                               NaN            NaN        NaN      4.683333   \n",
       "50%                               NaN            NaN        NaN     12.000000   \n",
       "75%                               NaN            NaN        NaN     18.838889   \n",
       "max                               NaN            NaN        NaN     39.905556   \n",
       "\n",
       "        apparentTemperature      humidity     windSpeed   windBearing  \\\n",
       "count          96429.000000  96429.000000  96429.000000  96429.000000   \n",
       "unique                  NaN           NaN           NaN           NaN   \n",
       "top                     NaN           NaN           NaN           NaN   \n",
       "freq                    NaN           NaN           NaN           NaN   \n",
       "mean              10.851707      0.734902     10.812460    187.497506   \n",
       "std               10.695743      0.195466      6.913345    107.376423   \n",
       "min              -27.716667      0.000000      0.000000      0.000000   \n",
       "25%                2.311111      0.600000      5.828200    116.000000   \n",
       "50%               12.000000      0.780000      9.965900    180.000000   \n",
       "75%               18.838889      0.890000     14.135800    290.000000   \n",
       "max               39.344444      1.000000     63.852600    359.000000   \n",
       "\n",
       "          visibility  cloudCover      pressure  \\\n",
       "count   96429.000000     96429.0  96429.000000   \n",
       "unique           NaN         NaN           NaN   \n",
       "top              NaN         NaN           NaN   \n",
       "freq             NaN         NaN           NaN   \n",
       "mean       10.347225         0.0   1003.232915   \n",
       "std         4.192548         0.0    116.984300   \n",
       "min         0.000000         0.0      0.000000   \n",
       "25%         8.339800         0.0   1011.900000   \n",
       "50%        10.046400         0.0   1016.450000   \n",
       "75%        14.812000         0.0   1021.090000   \n",
       "max        16.100000         0.0   1046.380000   \n",
       "\n",
       "                                  summary  \n",
       "count                               96429  \n",
       "unique                                214  \n",
       "top     Mostly cloudy throughout the day.  \n",
       "freq                                20085  \n",
       "mean                                  NaN  \n",
       "std                                   NaN  \n",
       "min                                   NaN  \n",
       "25%                                   NaN  \n",
       "50%                                   NaN  \n",
       "75%                                   NaN  \n",
       "max                                   NaN  "
      ]
     },
     "execution_count": 4,
     "metadata": {},
     "output_type": "execute_result"
    }
   ],
   "source": [
    "# summary statistics\n",
    "df.describe(include='all')"
   ]
  },
  {
   "cell_type": "code",
   "execution_count": 5,
   "metadata": {},
   "outputs": [
    {
     "data": {
      "text/plain": [
       "time                   96429\n",
       "summary                   27\n",
       "precipType                 2\n",
       "temperature             7574\n",
       "apparentTemperature     8984\n",
       "humidity                  90\n",
       "windSpeed               2484\n",
       "windBearing              360\n",
       "visibility               949\n",
       "cloudCover                 1\n",
       "pressure                4979\n",
       "summary                  214\n",
       "dtype: int64"
      ]
     },
     "execution_count": 5,
     "metadata": {},
     "output_type": "execute_result"
    }
   ],
   "source": [
    "df.nunique()"
   ]
  },
  {
   "cell_type": "code",
   "execution_count": 6,
   "metadata": {},
   "outputs": [
    {
     "data": {
      "text/plain": [
       "Partly Cloudy                          31726\n",
       "Mostly Cloudy                          28094\n",
       "Overcast                               16597\n",
       "Clear                                  10873\n",
       "Foggy                                   7148\n",
       "Breezy and Overcast                      528\n",
       "Breezy and Mostly Cloudy                 516\n",
       "Breezy and Partly Cloudy                 386\n",
       "Dry and Partly Cloudy                     86\n",
       "Windy and Partly Cloudy                   67\n",
       "Light Rain                                63\n",
       "Breezy                                    54\n",
       "Windy and Overcast                        45\n",
       "Humid and Mostly Cloudy                   40\n",
       "Drizzle                                   39\n",
       "Windy and Mostly Cloudy                   35\n",
       "Breezy and Foggy                          35\n",
       "Dry                                       34\n",
       "Humid and Partly Cloudy                   17\n",
       "Dry and Mostly Cloudy                     14\n",
       "Rain                                      10\n",
       "Windy                                      8\n",
       "Humid and Overcast                         7\n",
       "Windy and Foggy                            4\n",
       "Windy and Dry                              1\n",
       "Dangerously Windy and Partly Cloudy        1\n",
       "Breezy and Dry                             1\n",
       "Name: summary, dtype: int64"
      ]
     },
     "execution_count": 6,
     "metadata": {},
     "output_type": "execute_result"
    }
   ],
   "source": [
    "# df['summary'] uniques (use iloc because summary uses df.summary() instead)\n",
    "df.iloc[:, 1].value_counts()"
   ]
  },
  {
   "cell_type": "code",
   "execution_count": 7,
   "metadata": {},
   "outputs": [
    {
     "data": {
      "text/plain": [
       "array(['rain', 'snow', nan], dtype=object)"
      ]
     },
     "execution_count": 7,
     "metadata": {},
     "output_type": "execute_result"
    }
   ],
   "source": [
    "# precipType uniques\n",
    "df['precipType'].unique()"
   ]
  },
  {
   "cell_type": "code",
   "execution_count": 8,
   "metadata": {},
   "outputs": [
    {
     "data": {
      "text/html": [
       "<div>\n",
       "<style scoped>\n",
       "    .dataframe tbody tr th:only-of-type {\n",
       "        vertical-align: middle;\n",
       "    }\n",
       "\n",
       "    .dataframe tbody tr th {\n",
       "        vertical-align: top;\n",
       "    }\n",
       "\n",
       "    .dataframe thead th {\n",
       "        text-align: right;\n",
       "    }\n",
       "</style>\n",
       "<table border=\"1\" class=\"dataframe\">\n",
       "  <thead>\n",
       "    <tr style=\"text-align: right;\">\n",
       "      <th></th>\n",
       "      <th>time</th>\n",
       "      <th>precipType</th>\n",
       "      <th>temperature</th>\n",
       "      <th>apparentTemperature</th>\n",
       "      <th>humidity</th>\n",
       "      <th>windSpeed</th>\n",
       "      <th>windBearing</th>\n",
       "      <th>visibility</th>\n",
       "      <th>pressure</th>\n",
       "    </tr>\n",
       "  </thead>\n",
       "  <tbody>\n",
       "    <tr>\n",
       "      <th>0</th>\n",
       "      <td>2006-04-01 00:00:00.000 +0200</td>\n",
       "      <td>rain</td>\n",
       "      <td>9.472222</td>\n",
       "      <td>7.388889</td>\n",
       "      <td>0.89</td>\n",
       "      <td>14.1197</td>\n",
       "      <td>251.0</td>\n",
       "      <td>15.8263</td>\n",
       "      <td>1015.13</td>\n",
       "    </tr>\n",
       "    <tr>\n",
       "      <th>1</th>\n",
       "      <td>2006-04-01 01:00:00.000 +0200</td>\n",
       "      <td>rain</td>\n",
       "      <td>9.355556</td>\n",
       "      <td>7.227778</td>\n",
       "      <td>0.86</td>\n",
       "      <td>14.2646</td>\n",
       "      <td>259.0</td>\n",
       "      <td>15.8263</td>\n",
       "      <td>1015.63</td>\n",
       "    </tr>\n",
       "    <tr>\n",
       "      <th>2</th>\n",
       "      <td>2006-04-01 02:00:00.000 +0200</td>\n",
       "      <td>rain</td>\n",
       "      <td>9.377778</td>\n",
       "      <td>9.377778</td>\n",
       "      <td>0.89</td>\n",
       "      <td>3.9284</td>\n",
       "      <td>204.0</td>\n",
       "      <td>14.9569</td>\n",
       "      <td>1015.94</td>\n",
       "    </tr>\n",
       "    <tr>\n",
       "      <th>3</th>\n",
       "      <td>2006-04-01 03:00:00.000 +0200</td>\n",
       "      <td>rain</td>\n",
       "      <td>8.288889</td>\n",
       "      <td>5.944444</td>\n",
       "      <td>0.83</td>\n",
       "      <td>14.1036</td>\n",
       "      <td>269.0</td>\n",
       "      <td>15.8263</td>\n",
       "      <td>1016.41</td>\n",
       "    </tr>\n",
       "    <tr>\n",
       "      <th>4</th>\n",
       "      <td>2006-04-01 04:00:00.000 +0200</td>\n",
       "      <td>rain</td>\n",
       "      <td>8.755556</td>\n",
       "      <td>6.977778</td>\n",
       "      <td>0.83</td>\n",
       "      <td>11.0446</td>\n",
       "      <td>259.0</td>\n",
       "      <td>15.8263</td>\n",
       "      <td>1016.51</td>\n",
       "    </tr>\n",
       "  </tbody>\n",
       "</table>\n",
       "</div>"
      ],
      "text/plain": [
       "                            time precipType  temperature  apparentTemperature  \\\n",
       "0  2006-04-01 00:00:00.000 +0200       rain     9.472222             7.388889   \n",
       "1  2006-04-01 01:00:00.000 +0200       rain     9.355556             7.227778   \n",
       "2  2006-04-01 02:00:00.000 +0200       rain     9.377778             9.377778   \n",
       "3  2006-04-01 03:00:00.000 +0200       rain     8.288889             5.944444   \n",
       "4  2006-04-01 04:00:00.000 +0200       rain     8.755556             6.977778   \n",
       "\n",
       "   humidity  windSpeed  windBearing  visibility  pressure  \n",
       "0      0.89    14.1197        251.0     15.8263   1015.13  \n",
       "1      0.86    14.2646        259.0     15.8263   1015.63  \n",
       "2      0.89     3.9284        204.0     14.9569   1015.94  \n",
       "3      0.83    14.1036        269.0     15.8263   1016.41  \n",
       "4      0.83    11.0446        259.0     15.8263   1016.51  "
      ]
     },
     "execution_count": 8,
     "metadata": {},
     "output_type": "execute_result"
    }
   ],
   "source": [
    "# drop unnecessary variables\n",
    "df.drop(['summary', 'cloudCover'], axis = 1, inplace=True)\n",
    "df.head()"
   ]
  },
  {
   "cell_type": "markdown",
   "metadata": {},
   "source": [
    "# Feature Engineering and/or Transformation"
   ]
  },
  {
   "cell_type": "markdown",
   "metadata": {},
   "source": [
    "## Target variable"
   ]
  },
  {
   "cell_type": "code",
   "execution_count": 9,
   "metadata": {},
   "outputs": [
    {
     "data": {
      "image/png": "[encoded data removed]",
      "text/plain": [
       "<Figure size 1296x432 with 3 Axes>"
      ]
     },
     "metadata": {
      "needs_background": "light"
     },
     "output_type": "display_data"
    }
   ],
   "source": [
    "# pdf, cdf and qq plot\n",
    "def prob_plots(x):\n",
    "    from scipy.stats import probplot\n",
    "    fig, ax = plt.subplots(1, 3, figsize = (18, 6))\n",
    "\n",
    "    res = probplot(x, plot = ax[0])\n",
    "    ax[0].set_title(\"Q-Q Plot\")\n",
    "\n",
    "    ax[1] = sns.kdeplot(x, fill = True, ax = ax[1])\n",
    "    ax[1].set_title(\"KDE (PDF) Plot\")\n",
    "\n",
    "    ax[2] = sns.ecdfplot(x, ax = ax[2])\n",
    "    ax[2].set_title(\"KDE (PDF) Plot\")\n",
    "\n",
    "prob_plots(df['apparentTemperature'])"
   ]
  },
  {
   "cell_type": "markdown",
   "metadata": {},
   "source": [
    "Keep target variable as is. No transformations needed."
   ]
  },
  {
   "cell_type": "markdown",
   "metadata": {},
   "source": [
    "## Correlation"
   ]
  },
  {
   "cell_type": "code",
   "execution_count": 10,
   "metadata": {},
   "outputs": [
    {
     "data": {
      "text/plain": [
       "<AxesSubplot:>"
      ]
     },
     "execution_count": 10,
     "metadata": {},
     "output_type": "execute_result"
    },
    {
     "data": {
      "image/png": "[encoded data removed]",
      "text/plain": [
       "<Figure size 576x432 with 2 Axes>"
      ]
     },
     "metadata": {
      "needs_background": "light"
     },
     "output_type": "display_data"
    }
   ],
   "source": [
    "# correlation plot\n",
    "plt.figure(figsize=(8,6))\n",
    "sns.set_context('paper', font_scale=1.5)\n",
    "\n",
    "df_corr = df.corr()\n",
    "\n",
    "sns.heatmap(df_corr, annot=True, cmap = 'coolwarm', vmin = -1, vmax = 1, fmt = '.2f')"
   ]
  },
  {
   "cell_type": "markdown",
   "metadata": {},
   "source": [
    "We can see that `windSpeed`, `windBearing`, `pressure`, `visibility` has no effect on `apparentTemperature`."
   ]
  },
  {
   "cell_type": "code",
   "execution_count": 11,
   "metadata": {},
   "outputs": [
    {
     "data": {
      "text/html": [
       "<div>\n",
       "<style scoped>\n",
       "    .dataframe tbody tr th:only-of-type {\n",
       "        vertical-align: middle;\n",
       "    }\n",
       "\n",
       "    .dataframe tbody tr th {\n",
       "        vertical-align: top;\n",
       "    }\n",
       "\n",
       "    .dataframe thead th {\n",
       "        text-align: right;\n",
       "    }\n",
       "</style>\n",
       "<table border=\"1\" class=\"dataframe\">\n",
       "  <thead>\n",
       "    <tr style=\"text-align: right;\">\n",
       "      <th></th>\n",
       "      <th>time</th>\n",
       "      <th>precipType</th>\n",
       "      <th>temperature</th>\n",
       "      <th>apparentTemperature</th>\n",
       "      <th>humidity</th>\n",
       "    </tr>\n",
       "  </thead>\n",
       "  <tbody>\n",
       "    <tr>\n",
       "      <th>0</th>\n",
       "      <td>2006-04-01 00:00:00.000 +0200</td>\n",
       "      <td>rain</td>\n",
       "      <td>9.472222</td>\n",
       "      <td>7.388889</td>\n",
       "      <td>0.89</td>\n",
       "    </tr>\n",
       "    <tr>\n",
       "      <th>1</th>\n",
       "      <td>2006-04-01 01:00:00.000 +0200</td>\n",
       "      <td>rain</td>\n",
       "      <td>9.355556</td>\n",
       "      <td>7.227778</td>\n",
       "      <td>0.86</td>\n",
       "    </tr>\n",
       "    <tr>\n",
       "      <th>2</th>\n",
       "      <td>2006-04-01 02:00:00.000 +0200</td>\n",
       "      <td>rain</td>\n",
       "      <td>9.377778</td>\n",
       "      <td>9.377778</td>\n",
       "      <td>0.89</td>\n",
       "    </tr>\n",
       "    <tr>\n",
       "      <th>3</th>\n",
       "      <td>2006-04-01 03:00:00.000 +0200</td>\n",
       "      <td>rain</td>\n",
       "      <td>8.288889</td>\n",
       "      <td>5.944444</td>\n",
       "      <td>0.83</td>\n",
       "    </tr>\n",
       "    <tr>\n",
       "      <th>4</th>\n",
       "      <td>2006-04-01 04:00:00.000 +0200</td>\n",
       "      <td>rain</td>\n",
       "      <td>8.755556</td>\n",
       "      <td>6.977778</td>\n",
       "      <td>0.83</td>\n",
       "    </tr>\n",
       "  </tbody>\n",
       "</table>\n",
       "</div>"
      ],
      "text/plain": [
       "                            time precipType  temperature  apparentTemperature  \\\n",
       "0  2006-04-01 00:00:00.000 +0200       rain     9.472222             7.388889   \n",
       "1  2006-04-01 01:00:00.000 +0200       rain     9.355556             7.227778   \n",
       "2  2006-04-01 02:00:00.000 +0200       rain     9.377778             9.377778   \n",
       "3  2006-04-01 03:00:00.000 +0200       rain     8.288889             5.944444   \n",
       "4  2006-04-01 04:00:00.000 +0200       rain     8.755556             6.977778   \n",
       "\n",
       "   humidity  \n",
       "0      0.89  \n",
       "1      0.86  \n",
       "2      0.89  \n",
       "3      0.83  \n",
       "4      0.83  "
      ]
     },
     "execution_count": 11,
     "metadata": {},
     "output_type": "execute_result"
    }
   ],
   "source": [
    "# drop those variables\n",
    "df.drop(['windSpeed', 'windBearing', 'pressure', 'visibility'], axis = 1, inplace=True)\n",
    "df.head()"
   ]
  },
  {
   "cell_type": "markdown",
   "metadata": {},
   "source": [
    "## Checking effect of categorical variables"
   ]
  },
  {
   "cell_type": "code",
   "execution_count": 12,
   "metadata": {},
   "outputs": [
    {
     "data": {
      "text/plain": [
       "[13.010274191444967, -6.249847004397975, 9.462841177734795]"
      ]
     },
     "execution_count": 12,
     "metadata": {},
     "output_type": "execute_result"
    }
   ],
   "source": [
    "# ANOVA for precipType\n",
    "# get different groups\n",
    "df['precipType'] = df['precipType'].fillna('None')\n",
    "\n",
    "x = []\n",
    "for e in df['precipType'].unique():\n",
    "    x.append(np.array(df['apparentTemperature'].loc[df['precipType'] == e]))\n",
    "\n",
    "[e.mean() for e in x]"
   ]
  },
  {
   "cell_type": "code",
   "execution_count": 13,
   "metadata": {},
   "outputs": [
    {
     "name": "stdout",
     "output_type": "stream",
     "text": [
      "F Statistic = 22696.42\n",
      "p-Value = 0.0\n"
     ]
    }
   ],
   "source": [
    "# One Way ANOVA\n",
    "from scipy.stats import f_oneway\n",
    "\n",
    "F, p = f_oneway(x[0], x[1], x[2])\n",
    "print(\"F Statistic =\", format(F, \".2f\"))\n",
    "print(\"p-Value =\", format(p, '.3'))"
   ]
  },
  {
   "cell_type": "markdown",
   "metadata": {},
   "source": [
    "Since p < 0.05, we can consider that there is a statistically significant relationship between `precipType` and `apparentTemperature`."
   ]
  },
  {
   "cell_type": "code",
   "execution_count": 14,
   "metadata": {},
   "outputs": [
    {
     "data": {
      "text/html": [
       "<div>\n",
       "<style scoped>\n",
       "    .dataframe tbody tr th:only-of-type {\n",
       "        vertical-align: middle;\n",
       "    }\n",
       "\n",
       "    .dataframe tbody tr th {\n",
       "        vertical-align: top;\n",
       "    }\n",
       "\n",
       "    .dataframe thead th {\n",
       "        text-align: right;\n",
       "    }\n",
       "</style>\n",
       "<table border=\"1\" class=\"dataframe\">\n",
       "  <thead>\n",
       "    <tr style=\"text-align: right;\">\n",
       "      <th></th>\n",
       "      <th>time</th>\n",
       "      <th>precipType</th>\n",
       "      <th>temperature</th>\n",
       "      <th>apparentTemperature</th>\n",
       "      <th>humidity</th>\n",
       "      <th>hour</th>\n",
       "    </tr>\n",
       "  </thead>\n",
       "  <tbody>\n",
       "    <tr>\n",
       "      <th>0</th>\n",
       "      <td>2006-04-01 00:00:00+02:00</td>\n",
       "      <td>rain</td>\n",
       "      <td>9.472222</td>\n",
       "      <td>7.388889</td>\n",
       "      <td>0.89</td>\n",
       "      <td>0</td>\n",
       "    </tr>\n",
       "    <tr>\n",
       "      <th>1</th>\n",
       "      <td>2006-04-01 01:00:00+02:00</td>\n",
       "      <td>rain</td>\n",
       "      <td>9.355556</td>\n",
       "      <td>7.227778</td>\n",
       "      <td>0.86</td>\n",
       "      <td>1</td>\n",
       "    </tr>\n",
       "    <tr>\n",
       "      <th>2</th>\n",
       "      <td>2006-04-01 02:00:00+02:00</td>\n",
       "      <td>rain</td>\n",
       "      <td>9.377778</td>\n",
       "      <td>9.377778</td>\n",
       "      <td>0.89</td>\n",
       "      <td>2</td>\n",
       "    </tr>\n",
       "    <tr>\n",
       "      <th>3</th>\n",
       "      <td>2006-04-01 03:00:00+02:00</td>\n",
       "      <td>rain</td>\n",
       "      <td>8.288889</td>\n",
       "      <td>5.944444</td>\n",
       "      <td>0.83</td>\n",
       "      <td>3</td>\n",
       "    </tr>\n",
       "    <tr>\n",
       "      <th>4</th>\n",
       "      <td>2006-04-01 04:00:00+02:00</td>\n",
       "      <td>rain</td>\n",
       "      <td>8.755556</td>\n",
       "      <td>6.977778</td>\n",
       "      <td>0.83</td>\n",
       "      <td>4</td>\n",
       "    </tr>\n",
       "  </tbody>\n",
       "</table>\n",
       "</div>"
      ],
      "text/plain": [
       "                        time precipType  temperature  apparentTemperature  \\\n",
       "0  2006-04-01 00:00:00+02:00       rain     9.472222             7.388889   \n",
       "1  2006-04-01 01:00:00+02:00       rain     9.355556             7.227778   \n",
       "2  2006-04-01 02:00:00+02:00       rain     9.377778             9.377778   \n",
       "3  2006-04-01 03:00:00+02:00       rain     8.288889             5.944444   \n",
       "4  2006-04-01 04:00:00+02:00       rain     8.755556             6.977778   \n",
       "\n",
       "   humidity  hour  \n",
       "0      0.89     0  \n",
       "1      0.86     1  \n",
       "2      0.89     2  \n",
       "3      0.83     3  \n",
       "4      0.83     4  "
      ]
     },
     "execution_count": 14,
     "metadata": {},
     "output_type": "execute_result"
    }
   ],
   "source": [
    "# ANOVA for time variable\n",
    "# we can use time as hours from midnight to see if there is relationship between that and apparentTemprerature\n",
    "df['time'] = pd.to_datetime(df['time'], format = '%Y-%m-%d %H:%M:%S.%f %z')\n",
    "df['hour'] = [e.hour for e in df['time']]\n",
    "df.head()"
   ]
  },
  {
   "cell_type": "code",
   "execution_count": 15,
   "metadata": {},
   "outputs": [
    {
     "data": {
      "text/plain": [
       "<AxesSubplot:xlabel='hour', ylabel='apparentTemperature'>"
      ]
     },
     "execution_count": 15,
     "metadata": {},
     "output_type": "execute_result"
    },
    {
     "data": {
      "image/png": "[encoded data removed]",
      "text/plain": [
       "<Figure size 432x288 with 1 Axes>"
      ]
     },
     "metadata": {
      "needs_background": "light"
     },
     "output_type": "display_data"
    }
   ],
   "source": [
    "sns.boxplot(y = df['apparentTemperature'], x = df['hour'])"
   ]
  },
  {
   "cell_type": "code",
   "execution_count": 16,
   "metadata": {},
   "outputs": [
    {
     "data": {
      "text/plain": [
       "[8.320862722319033,\n",
       " 7.92420546012779,\n",
       " 7.56169612480292,\n",
       " 7.088489298158287,\n",
       " 6.78279132791328,\n",
       " 6.54264282948952,\n",
       " 6.6282022565123615,\n",
       " 7.656526187710856,\n",
       " 9.16585089320281,\n",
       " 10.865853658536585,\n",
       " 12.395579613959406,\n",
       " 13.611010176428296,\n",
       " 14.534165698799846,\n",
       " 15.14348902162491,\n",
       " 15.429362314031303,\n",
       " 15.456540014379737,\n",
       " 15.12844560588463,\n",
       " 14.489266356949285,\n",
       " 13.583206127979647,\n",
       " 12.486465073834413,\n",
       " 11.158540733366516,\n",
       " 10.012390077982412,\n",
       " 9.53394585476467,\n",
       " 8.939271887616837]"
      ]
     },
     "execution_count": 16,
     "metadata": {},
     "output_type": "execute_result"
    }
   ],
   "source": [
    "# get groups for one way anova\n",
    "x = []\n",
    "\n",
    "for e in df['hour'].unique():\n",
    "    x.append(np.array(df['apparentTemperature'].loc[df['hour'] == e]))\n",
    "\n",
    "[e.mean() for e in x]"
   ]
  },
  {
   "cell_type": "code",
   "execution_count": 17,
   "metadata": {},
   "outputs": [
    {
     "name": "stdout",
     "output_type": "stream",
     "text": [
      "F Statistic = 397.76\n",
      "p-Value = 0.0\n"
     ]
    }
   ],
   "source": [
    "# one way anova\n",
    "F, p = f_oneway(x[0], x[1], x[2], x[3], x[4], x[5], x[6], x[7], x[8], x[9], x[10], x[11], x[12], x[13], x[14], x[15], x[16], x[17], x[18], x[19], x[20], x[21], x[22], x[23])\n",
    "print(\"F Statistic =\", format(F, \".2f\"))\n",
    "print(\"p-Value =\", format(p, '.3'))"
   ]
  },
  {
   "cell_type": "markdown",
   "metadata": {},
   "source": [
    "Since p < 0.05, we can consider that there is a statistically significant relationship between `hour` and `apparentTemperature`."
   ]
  },
  {
   "cell_type": "code",
   "execution_count": 18,
   "metadata": {},
   "outputs": [
    {
     "data": {
      "text/plain": [
       "time                    object\n",
       "precipType              object\n",
       "temperature            float64\n",
       "apparentTemperature    float64\n",
       "humidity               float64\n",
       "hour                    object\n",
       "dtype: object"
      ]
     },
     "execution_count": 18,
     "metadata": {},
     "output_type": "execute_result"
    }
   ],
   "source": [
    "df['hour'] = df['hour'].astype('object')\n",
    "df.dtypes"
   ]
  },
  {
   "cell_type": "markdown",
   "metadata": {},
   "source": [
    "## Univariate Analysis"
   ]
  },
  {
   "cell_type": "markdown",
   "metadata": {},
   "source": [
    "### Checking for outliers"
   ]
  },
  {
   "cell_type": "markdown",
   "metadata": {},
   "source": [
    "Outliers massively affect regression models and thus have to be dealt with before using the data for model generation."
   ]
  },
  {
   "cell_type": "code",
   "execution_count": 19,
   "metadata": {},
   "outputs": [
    {
     "name": "stdout",
     "output_type": "stream",
     "text": [
      "IQR = 14.155555555555555\n",
      "Upper, Lower Bound for Outliers = 40.07222222222222 , -16.55\n",
      "Values to replace outliers with = 24.90555555555555 , -0.127777777777778\n"
     ]
    }
   ],
   "source": [
    "# function to get outliers and fix them\n",
    "def outlier_fix(x):\n",
    "    import numpy as np\n",
    "    import pandas as pd\n",
    "    \n",
    "    # we will use values > 1.5(IQR) as outliers and equate them to the 90th/10th percentile values \n",
    "    \n",
    "    iqr = np.subtract(*np.percentile(x, [75, 25]))\n",
    "    iqr_upper_bound = 1.5*iqr + np.percentile(x, 75)\n",
    "    iqr_lower_bound = np.percentile(x, 25) - 1.5*iqr\n",
    "    upper_replacement = np.percentile(x, 90)\n",
    "    lower_replacement = np.percentile(x, 10)\n",
    "    print(\"IQR =\", iqr)\n",
    "    print(\"Upper, Lower Bound for Outliers =\", iqr_upper_bound, \",\", iqr_lower_bound)\n",
    "    print(\"Values to replace outliers with =\", upper_replacement, \",\", lower_replacement)\n",
    "    \n",
    "    return iqr, iqr_upper_bound, iqr_lower_bound, upper_replacement, lower_replacement\n",
    "\n",
    "iqr, iqr_upper_bound, iqr_lower_bound, upper_replacement, lower_replacement = outlier_fix(df['temperature'])"
   ]
  },
  {
   "cell_type": "code",
   "execution_count": 20,
   "metadata": {},
   "outputs": [
    {
     "data": {
      "text/plain": [
       "<AxesSubplot:xlabel='temperature'>"
      ]
     },
     "execution_count": 20,
     "metadata": {},
     "output_type": "execute_result"
    },
    {
     "data": {
      "image/png": "[encoded data removed]",
      "text/plain": [
       "<Figure size 432x288 with 1 Axes>"
      ]
     },
     "metadata": {
      "needs_background": "light"
     },
     "output_type": "display_data"
    }
   ],
   "source": [
    "# boxplot before\n",
    "sns.boxplot(x = 'temperature', data = df)"
   ]
  },
  {
   "cell_type": "code",
   "execution_count": 21,
   "metadata": {},
   "outputs": [
    {
     "name": "stdout",
     "output_type": "stream",
     "text": [
      "IQR = 14.155555555555555\n",
      "Upper, Lower Bound for Outliers = 40.07222222222222 , -16.55\n",
      "Values to replace outliers with = 24.90555555555555 , -0.127777777777778\n"
     ]
    },
    {
     "data": {
      "text/plain": [
       "<AxesSubplot:xlabel='temperature'>"
      ]
     },
     "execution_count": 21,
     "metadata": {},
     "output_type": "execute_result"
    },
    {
     "data": {
      "image/png": "[encoded data removed]",
      "text/plain": [
       "<Figure size 432x288 with 1 Axes>"
      ]
     },
     "metadata": {
      "needs_background": "light"
     },
     "output_type": "display_data"
    }
   ],
   "source": [
    "# fixing outliers\n",
    "iqr, iqr_upper_bound, iqr_lower_bound, upper_replacement, lower_replacement = outlier_fix(df['temperature'])\n",
    "df.loc[df['temperature'] > iqr_upper_bound, 'temperature'] = upper_replacement\n",
    "df.loc[df['temperature'] < iqr_lower_bound, 'temperature'] = lower_replacement\n",
    "\n",
    "# box plot after\n",
    "sns.boxplot(x = 'temperature', data = df)"
   ]
  },
  {
   "cell_type": "code",
   "execution_count": 22,
   "metadata": {},
   "outputs": [
    {
     "data": {
      "image/png": "[encoded data removed]",
      "text/plain": [
       "<Figure size 1296x432 with 3 Axes>"
      ]
     },
     "metadata": {
      "needs_background": "light"
     },
     "output_type": "display_data"
    }
   ],
   "source": [
    "# temperature\n",
    "prob_plots(df['temperature'])"
   ]
  },
  {
   "cell_type": "code",
   "execution_count": 23,
   "metadata": {},
   "outputs": [
    {
     "data": {
      "text/plain": [
       "<AxesSubplot:xlabel='humidity'>"
      ]
     },
     "execution_count": 23,
     "metadata": {},
     "output_type": "execute_result"
    },
    {
     "data": {
      "image/png": "[encoded data removed]",
      "text/plain": [
       "<Figure size 432x288 with 1 Axes>"
      ]
     },
     "metadata": {
      "needs_background": "light"
     },
     "output_type": "display_data"
    }
   ],
   "source": [
    "# boxplot before\n",
    "sns.boxplot(x = 'humidity', data = df)"
   ]
  },
  {
   "cell_type": "code",
   "execution_count": 24,
   "metadata": {},
   "outputs": [
    {
     "name": "stdout",
     "output_type": "stream",
     "text": [
      "IQR = 0.29000000000000004\n",
      "Upper, Lower Bound for Outliers = 1.3250000000000002 , 0.16499999999999992\n",
      "Values to replace outliers with = 0.95 , 0.43\n"
     ]
    },
    {
     "data": {
      "text/plain": [
       "<AxesSubplot:xlabel='humidity'>"
      ]
     },
     "execution_count": 24,
     "metadata": {},
     "output_type": "execute_result"
    },
    {
     "data": {
      "image/png": "[encoded data removed]",
      "text/plain": [
       "<Figure size 432x288 with 1 Axes>"
      ]
     },
     "metadata": {
      "needs_background": "light"
     },
     "output_type": "display_data"
    }
   ],
   "source": [
    "# fixing outliers\n",
    "iqr, iqr_upper_bound, iqr_lower_bound, upper_replacement, lower_replacement = outlier_fix(df['humidity'])\n",
    "df.loc[df['humidity'] > iqr_upper_bound, 'humidity'] = upper_replacement\n",
    "df.loc[df['humidity'] < iqr_lower_bound, 'humidity'] = lower_replacement\n",
    "\n",
    "# box plot after\n",
    "sns.boxplot(x = 'humidity', data = df)"
   ]
  },
  {
   "cell_type": "code",
   "execution_count": 25,
   "metadata": {},
   "outputs": [
    {
     "data": {
      "image/png": "[encoded data removed]",
      "text/plain": [
       "<Figure size 1296x432 with 3 Axes>"
      ]
     },
     "metadata": {
      "needs_background": "light"
     },
     "output_type": "display_data"
    }
   ],
   "source": [
    "# humidity\n",
    "prob_plots(df['humidity'])"
   ]
  },
  {
   "cell_type": "markdown",
   "metadata": {},
   "source": [
    "- Since this is a left skewed (negative skewness) distribution, we will first have to reflect it into a right skewed distribution and then transform it.\n",
    "- Also note that there are some values on the extreme that are very close, or equal, to each other. These often prove difficult to overcome to make our variable as normally distributed as possible."
   ]
  },
  {
   "cell_type": "code",
   "execution_count": 26,
   "metadata": {},
   "outputs": [
    {
     "data": {
      "image/png": "[encoded data removed]",
      "text/plain": [
       "<Figure size 1296x432 with 3 Axes>"
      ]
     },
     "metadata": {
      "needs_background": "light"
     },
     "output_type": "display_data"
    }
   ],
   "source": [
    "# reflecting using a factor of 0.01 to max(humidity)\n",
    "humidity_reflected = np.array((df['humidity'].max() + 00.1) - df['humidity'])\n",
    "prob_plots(humidity_reflected)"
   ]
  },
  {
   "cell_type": "code",
   "execution_count": 27,
   "metadata": {},
   "outputs": [
    {
     "data": {
      "image/png": "[encoded data removed]",
      "text/plain": [
       "<Figure size 1296x432 with 3 Axes>"
      ]
     },
     "metadata": {
      "needs_background": "light"
     },
     "output_type": "display_data"
    }
   ],
   "source": [
    "# square root transformation\n",
    "prob_plots(np.sqrt(humidity_reflected))"
   ]
  },
  {
   "cell_type": "code",
   "execution_count": 28,
   "metadata": {},
   "outputs": [
    {
     "data": {
      "image/png": "[encoded data removed]",
      "text/plain": [
       "<Figure size 1296x432 with 3 Axes>"
      ]
     },
     "metadata": {
      "needs_background": "light"
     },
     "output_type": "display_data"
    }
   ],
   "source": [
    "# box cox transformation\n",
    "from scipy.stats import boxcox\n",
    "xt, lambda_ = boxcox((humidity_reflected + 0.01))\n",
    "lambda_\n",
    "prob_plots(xt)"
   ]
  },
  {
   "cell_type": "code",
   "execution_count": 29,
   "metadata": {},
   "outputs": [
    {
     "data": {
      "image/png": "[encoded data removed]",
      "text/plain": [
       "<Figure size 1296x432 with 3 Axes>"
      ]
     },
     "metadata": {
      "needs_background": "light"
     },
     "output_type": "display_data"
    }
   ],
   "source": [
    "# log transformation\n",
    "prob_plots(np.log(humidity_reflected))"
   ]
  },
  {
   "cell_type": "markdown",
   "metadata": {},
   "source": [
    "We will move with a reflected log transformation."
   ]
  },
  {
   "cell_type": "code",
   "execution_count": 30,
   "metadata": {},
   "outputs": [],
   "source": [
    "df['humidity_refl_log'] = np.log(humidity_reflected)"
   ]
  },
  {
   "cell_type": "code",
   "execution_count": 31,
   "metadata": {},
   "outputs": [
    {
     "data": {
      "text/html": [
       "<div>\n",
       "<style scoped>\n",
       "    .dataframe tbody tr th:only-of-type {\n",
       "        vertical-align: middle;\n",
       "    }\n",
       "\n",
       "    .dataframe tbody tr th {\n",
       "        vertical-align: top;\n",
       "    }\n",
       "\n",
       "    .dataframe thead th {\n",
       "        text-align: right;\n",
       "    }\n",
       "</style>\n",
       "<table border=\"1\" class=\"dataframe\">\n",
       "  <thead>\n",
       "    <tr style=\"text-align: right;\">\n",
       "      <th></th>\n",
       "      <th>precipType</th>\n",
       "      <th>temperature</th>\n",
       "      <th>apparentTemperature</th>\n",
       "      <th>hour</th>\n",
       "      <th>humidity_refl_log</th>\n",
       "    </tr>\n",
       "  </thead>\n",
       "  <tbody>\n",
       "    <tr>\n",
       "      <th>0</th>\n",
       "      <td>rain</td>\n",
       "      <td>9.472222</td>\n",
       "      <td>7.388889</td>\n",
       "      <td>0</td>\n",
       "      <td>-1.560648</td>\n",
       "    </tr>\n",
       "    <tr>\n",
       "      <th>1</th>\n",
       "      <td>rain</td>\n",
       "      <td>9.355556</td>\n",
       "      <td>7.227778</td>\n",
       "      <td>1</td>\n",
       "      <td>-1.427116</td>\n",
       "    </tr>\n",
       "    <tr>\n",
       "      <th>2</th>\n",
       "      <td>rain</td>\n",
       "      <td>9.377778</td>\n",
       "      <td>9.377778</td>\n",
       "      <td>2</td>\n",
       "      <td>-1.560648</td>\n",
       "    </tr>\n",
       "    <tr>\n",
       "      <th>3</th>\n",
       "      <td>rain</td>\n",
       "      <td>8.288889</td>\n",
       "      <td>5.944444</td>\n",
       "      <td>3</td>\n",
       "      <td>-1.309333</td>\n",
       "    </tr>\n",
       "    <tr>\n",
       "      <th>4</th>\n",
       "      <td>rain</td>\n",
       "      <td>8.755556</td>\n",
       "      <td>6.977778</td>\n",
       "      <td>4</td>\n",
       "      <td>-1.309333</td>\n",
       "    </tr>\n",
       "  </tbody>\n",
       "</table>\n",
       "</div>"
      ],
      "text/plain": [
       "  precipType  temperature  apparentTemperature hour  humidity_refl_log\n",
       "0       rain     9.472222             7.388889    0          -1.560648\n",
       "1       rain     9.355556             7.227778    1          -1.427116\n",
       "2       rain     9.377778             9.377778    2          -1.560648\n",
       "3       rain     8.288889             5.944444    3          -1.309333\n",
       "4       rain     8.755556             6.977778    4          -1.309333"
      ]
     },
     "execution_count": 31,
     "metadata": {},
     "output_type": "execute_result"
    }
   ],
   "source": [
    "df.drop(['time', 'humidity'], inplace=True, axis=1)\n",
    "df.head()"
   ]
  },
  {
   "cell_type": "markdown",
   "metadata": {},
   "source": [
    "## Linear Regression"
   ]
  },
  {
   "cell_type": "markdown",
   "metadata": {},
   "source": [
    "### Create Dummy Variables"
   ]
  },
  {
   "cell_type": "code",
   "execution_count": 32,
   "metadata": {},
   "outputs": [
    {
     "data": {
      "text/html": [
       "<div>\n",
       "<style scoped>\n",
       "    .dataframe tbody tr th:only-of-type {\n",
       "        vertical-align: middle;\n",
       "    }\n",
       "\n",
       "    .dataframe tbody tr th {\n",
       "        vertical-align: top;\n",
       "    }\n",
       "\n",
       "    .dataframe thead th {\n",
       "        text-align: right;\n",
       "    }\n",
       "</style>\n",
       "<table border=\"1\" class=\"dataframe\">\n",
       "  <thead>\n",
       "    <tr style=\"text-align: right;\">\n",
       "      <th></th>\n",
       "      <th>temperature</th>\n",
       "      <th>apparentTemperature</th>\n",
       "      <th>humidity_refl_log</th>\n",
       "      <th>precip_None</th>\n",
       "      <th>precip_rain</th>\n",
       "      <th>precip_snow</th>\n",
       "      <th>hour_0</th>\n",
       "      <th>hour_1</th>\n",
       "      <th>hour_2</th>\n",
       "      <th>hour_3</th>\n",
       "      <th>hour_4</th>\n",
       "      <th>hour_5</th>\n",
       "      <th>hour_6</th>\n",
       "      <th>hour_7</th>\n",
       "      <th>hour_8</th>\n",
       "      <th>hour_9</th>\n",
       "      <th>hour_10</th>\n",
       "      <th>hour_11</th>\n",
       "      <th>hour_12</th>\n",
       "      <th>hour_13</th>\n",
       "      <th>hour_14</th>\n",
       "      <th>hour_15</th>\n",
       "      <th>hour_16</th>\n",
       "      <th>hour_17</th>\n",
       "      <th>hour_18</th>\n",
       "      <th>hour_19</th>\n",
       "      <th>hour_20</th>\n",
       "      <th>hour_21</th>\n",
       "      <th>hour_22</th>\n",
       "      <th>hour_23</th>\n",
       "    </tr>\n",
       "  </thead>\n",
       "  <tbody>\n",
       "    <tr>\n",
       "      <th>0</th>\n",
       "      <td>9.472222</td>\n",
       "      <td>7.388889</td>\n",
       "      <td>-1.560648</td>\n",
       "      <td>0</td>\n",
       "      <td>1</td>\n",
       "      <td>0</td>\n",
       "      <td>1</td>\n",
       "      <td>0</td>\n",
       "      <td>0</td>\n",
       "      <td>0</td>\n",
       "      <td>0</td>\n",
       "      <td>0</td>\n",
       "      <td>0</td>\n",
       "      <td>0</td>\n",
       "      <td>0</td>\n",
       "      <td>0</td>\n",
       "      <td>0</td>\n",
       "      <td>0</td>\n",
       "      <td>0</td>\n",
       "      <td>0</td>\n",
       "      <td>0</td>\n",
       "      <td>0</td>\n",
       "      <td>0</td>\n",
       "      <td>0</td>\n",
       "      <td>0</td>\n",
       "      <td>0</td>\n",
       "      <td>0</td>\n",
       "      <td>0</td>\n",
       "      <td>0</td>\n",
       "      <td>0</td>\n",
       "    </tr>\n",
       "    <tr>\n",
       "      <th>1</th>\n",
       "      <td>9.355556</td>\n",
       "      <td>7.227778</td>\n",
       "      <td>-1.427116</td>\n",
       "      <td>0</td>\n",
       "      <td>1</td>\n",
       "      <td>0</td>\n",
       "      <td>0</td>\n",
       "      <td>1</td>\n",
       "      <td>0</td>\n",
       "      <td>0</td>\n",
       "      <td>0</td>\n",
       "      <td>0</td>\n",
       "      <td>0</td>\n",
       "      <td>0</td>\n",
       "      <td>0</td>\n",
       "      <td>0</td>\n",
       "      <td>0</td>\n",
       "      <td>0</td>\n",
       "      <td>0</td>\n",
       "      <td>0</td>\n",
       "      <td>0</td>\n",
       "      <td>0</td>\n",
       "      <td>0</td>\n",
       "      <td>0</td>\n",
       "      <td>0</td>\n",
       "      <td>0</td>\n",
       "      <td>0</td>\n",
       "      <td>0</td>\n",
       "      <td>0</td>\n",
       "      <td>0</td>\n",
       "    </tr>\n",
       "    <tr>\n",
       "      <th>2</th>\n",
       "      <td>9.377778</td>\n",
       "      <td>9.377778</td>\n",
       "      <td>-1.560648</td>\n",
       "      <td>0</td>\n",
       "      <td>1</td>\n",
       "      <td>0</td>\n",
       "      <td>0</td>\n",
       "      <td>0</td>\n",
       "      <td>1</td>\n",
       "      <td>0</td>\n",
       "      <td>0</td>\n",
       "      <td>0</td>\n",
       "      <td>0</td>\n",
       "      <td>0</td>\n",
       "      <td>0</td>\n",
       "      <td>0</td>\n",
       "      <td>0</td>\n",
       "      <td>0</td>\n",
       "      <td>0</td>\n",
       "      <td>0</td>\n",
       "      <td>0</td>\n",
       "      <td>0</td>\n",
       "      <td>0</td>\n",
       "      <td>0</td>\n",
       "      <td>0</td>\n",
       "      <td>0</td>\n",
       "      <td>0</td>\n",
       "      <td>0</td>\n",
       "      <td>0</td>\n",
       "      <td>0</td>\n",
       "    </tr>\n",
       "    <tr>\n",
       "      <th>3</th>\n",
       "      <td>8.288889</td>\n",
       "      <td>5.944444</td>\n",
       "      <td>-1.309333</td>\n",
       "      <td>0</td>\n",
       "      <td>1</td>\n",
       "      <td>0</td>\n",
       "      <td>0</td>\n",
       "      <td>0</td>\n",
       "      <td>0</td>\n",
       "      <td>1</td>\n",
       "      <td>0</td>\n",
       "      <td>0</td>\n",
       "      <td>0</td>\n",
       "      <td>0</td>\n",
       "      <td>0</td>\n",
       "      <td>0</td>\n",
       "      <td>0</td>\n",
       "      <td>0</td>\n",
       "      <td>0</td>\n",
       "      <td>0</td>\n",
       "      <td>0</td>\n",
       "      <td>0</td>\n",
       "      <td>0</td>\n",
       "      <td>0</td>\n",
       "      <td>0</td>\n",
       "      <td>0</td>\n",
       "      <td>0</td>\n",
       "      <td>0</td>\n",
       "      <td>0</td>\n",
       "      <td>0</td>\n",
       "    </tr>\n",
       "    <tr>\n",
       "      <th>4</th>\n",
       "      <td>8.755556</td>\n",
       "      <td>6.977778</td>\n",
       "      <td>-1.309333</td>\n",
       "      <td>0</td>\n",
       "      <td>1</td>\n",
       "      <td>0</td>\n",
       "      <td>0</td>\n",
       "      <td>0</td>\n",
       "      <td>0</td>\n",
       "      <td>0</td>\n",
       "      <td>1</td>\n",
       "      <td>0</td>\n",
       "      <td>0</td>\n",
       "      <td>0</td>\n",
       "      <td>0</td>\n",
       "      <td>0</td>\n",
       "      <td>0</td>\n",
       "      <td>0</td>\n",
       "      <td>0</td>\n",
       "      <td>0</td>\n",
       "      <td>0</td>\n",
       "      <td>0</td>\n",
       "      <td>0</td>\n",
       "      <td>0</td>\n",
       "      <td>0</td>\n",
       "      <td>0</td>\n",
       "      <td>0</td>\n",
       "      <td>0</td>\n",
       "      <td>0</td>\n",
       "      <td>0</td>\n",
       "    </tr>\n",
       "  </tbody>\n",
       "</table>\n",
       "</div>"
      ],
      "text/plain": [
       "   temperature  apparentTemperature  humidity_refl_log  precip_None  \\\n",
       "0     9.472222             7.388889          -1.560648            0   \n",
       "1     9.355556             7.227778          -1.427116            0   \n",
       "2     9.377778             9.377778          -1.560648            0   \n",
       "3     8.288889             5.944444          -1.309333            0   \n",
       "4     8.755556             6.977778          -1.309333            0   \n",
       "\n",
       "   precip_rain  precip_snow  hour_0  hour_1  hour_2  hour_3  hour_4  hour_5  \\\n",
       "0            1            0       1       0       0       0       0       0   \n",
       "1            1            0       0       1       0       0       0       0   \n",
       "2            1            0       0       0       1       0       0       0   \n",
       "3            1            0       0       0       0       1       0       0   \n",
       "4            1            0       0       0       0       0       1       0   \n",
       "\n",
       "   hour_6  hour_7  hour_8  hour_9  hour_10  hour_11  hour_12  hour_13  \\\n",
       "0       0       0       0       0        0        0        0        0   \n",
       "1       0       0       0       0        0        0        0        0   \n",
       "2       0       0       0       0        0        0        0        0   \n",
       "3       0       0       0       0        0        0        0        0   \n",
       "4       0       0       0       0        0        0        0        0   \n",
       "\n",
       "   hour_14  hour_15  hour_16  hour_17  hour_18  hour_19  hour_20  hour_21  \\\n",
       "0        0        0        0        0        0        0        0        0   \n",
       "1        0        0        0        0        0        0        0        0   \n",
       "2        0        0        0        0        0        0        0        0   \n",
       "3        0        0        0        0        0        0        0        0   \n",
       "4        0        0        0        0        0        0        0        0   \n",
       "\n",
       "   hour_22  hour_23  \n",
       "0        0        0  \n",
       "1        0        0  \n",
       "2        0        0  \n",
       "3        0        0  \n",
       "4        0        0  "
      ]
     },
     "execution_count": 32,
     "metadata": {},
     "output_type": "execute_result"
    }
   ],
   "source": [
    "# create dummy variables\n",
    "df = pd.get_dummies(df, prefix = ['precip', 'hour'])\n",
    "df.head()"
   ]
  },
  {
   "cell_type": "markdown",
   "metadata": {},
   "source": [
    "### Train Test Split"
   ]
  },
  {
   "cell_type": "code",
   "execution_count": 33,
   "metadata": {},
   "outputs": [
    {
     "name": "stdout",
     "output_type": "stream",
     "text": [
      "X_train = (67500, 30)\n",
      "X_test = (28929, 30)\n",
      "y_train = (67500,)\n",
      "y_test = (28929,)\n"
     ]
    }
   ],
   "source": [
    "# train test split\n",
    "from sklearn.model_selection import train_test_split\n",
    "\n",
    "X = df.drop('apparentTemperature', axis = 1)\n",
    "y = df['apparentTemperature']\n",
    "X_train, X_test, y_train, y_test = train_test_split(X, y, test_size=0.3, random_state=42)\n",
    "\n",
    "# add constants to X_train, X_test\n",
    "import statsmodels.api as sm\n",
    "\n",
    "X_train, X_test = sm.add_constant(X_train), sm.add_constant(X_test)\n",
    "\n",
    "print('X_train =', X_train.shape)\n",
    "print('X_test =', X_test.shape)\n",
    "print('y_train =', y_train.shape)\n",
    "print('y_test =', y_test.shape)"
   ]
  },
  {
   "cell_type": "code",
   "execution_count": 34,
   "metadata": {},
   "outputs": [
    {
     "data": {
      "text/html": [
       "<div>\n",
       "<style scoped>\n",
       "    .dataframe tbody tr th:only-of-type {\n",
       "        vertical-align: middle;\n",
       "    }\n",
       "\n",
       "    .dataframe tbody tr th {\n",
       "        vertical-align: top;\n",
       "    }\n",
       "\n",
       "    .dataframe thead th {\n",
       "        text-align: right;\n",
       "    }\n",
       "</style>\n",
       "<table border=\"1\" class=\"dataframe\">\n",
       "  <thead>\n",
       "    <tr style=\"text-align: right;\">\n",
       "      <th></th>\n",
       "      <th>const</th>\n",
       "      <th>temperature</th>\n",
       "      <th>humidity_refl_log</th>\n",
       "      <th>precip_None</th>\n",
       "      <th>precip_rain</th>\n",
       "      <th>precip_snow</th>\n",
       "      <th>hour_0</th>\n",
       "      <th>hour_1</th>\n",
       "      <th>hour_2</th>\n",
       "      <th>hour_3</th>\n",
       "      <th>hour_4</th>\n",
       "      <th>hour_5</th>\n",
       "      <th>hour_6</th>\n",
       "      <th>hour_7</th>\n",
       "      <th>hour_8</th>\n",
       "      <th>hour_9</th>\n",
       "      <th>hour_10</th>\n",
       "      <th>hour_11</th>\n",
       "      <th>hour_12</th>\n",
       "      <th>hour_13</th>\n",
       "      <th>hour_14</th>\n",
       "      <th>hour_15</th>\n",
       "      <th>hour_16</th>\n",
       "      <th>hour_17</th>\n",
       "      <th>hour_18</th>\n",
       "      <th>hour_19</th>\n",
       "      <th>hour_20</th>\n",
       "      <th>hour_21</th>\n",
       "      <th>hour_22</th>\n",
       "      <th>hour_23</th>\n",
       "    </tr>\n",
       "  </thead>\n",
       "  <tbody>\n",
       "    <tr>\n",
       "      <th>74674</th>\n",
       "      <td>1.0</td>\n",
       "      <td>22.800000</td>\n",
       "      <td>-0.274437</td>\n",
       "      <td>0</td>\n",
       "      <td>1</td>\n",
       "      <td>0</td>\n",
       "      <td>0</td>\n",
       "      <td>0</td>\n",
       "      <td>0</td>\n",
       "      <td>0</td>\n",
       "      <td>0</td>\n",
       "      <td>0</td>\n",
       "      <td>0</td>\n",
       "      <td>0</td>\n",
       "      <td>0</td>\n",
       "      <td>0</td>\n",
       "      <td>0</td>\n",
       "      <td>0</td>\n",
       "      <td>0</td>\n",
       "      <td>1</td>\n",
       "      <td>0</td>\n",
       "      <td>0</td>\n",
       "      <td>0</td>\n",
       "      <td>0</td>\n",
       "      <td>0</td>\n",
       "      <td>0</td>\n",
       "      <td>0</td>\n",
       "      <td>0</td>\n",
       "      <td>0</td>\n",
       "      <td>0</td>\n",
       "    </tr>\n",
       "    <tr>\n",
       "      <th>11092</th>\n",
       "      <td>1.0</td>\n",
       "      <td>6.761111</td>\n",
       "      <td>-1.609438</td>\n",
       "      <td>0</td>\n",
       "      <td>1</td>\n",
       "      <td>0</td>\n",
       "      <td>0</td>\n",
       "      <td>0</td>\n",
       "      <td>0</td>\n",
       "      <td>0</td>\n",
       "      <td>1</td>\n",
       "      <td>0</td>\n",
       "      <td>0</td>\n",
       "      <td>0</td>\n",
       "      <td>0</td>\n",
       "      <td>0</td>\n",
       "      <td>0</td>\n",
       "      <td>0</td>\n",
       "      <td>0</td>\n",
       "      <td>0</td>\n",
       "      <td>0</td>\n",
       "      <td>0</td>\n",
       "      <td>0</td>\n",
       "      <td>0</td>\n",
       "      <td>0</td>\n",
       "      <td>0</td>\n",
       "      <td>0</td>\n",
       "      <td>0</td>\n",
       "      <td>0</td>\n",
       "      <td>0</td>\n",
       "    </tr>\n",
       "    <tr>\n",
       "      <th>3761</th>\n",
       "      <td>1.0</td>\n",
       "      <td>30.838889</td>\n",
       "      <td>-0.314711</td>\n",
       "      <td>0</td>\n",
       "      <td>1</td>\n",
       "      <td>0</td>\n",
       "      <td>0</td>\n",
       "      <td>0</td>\n",
       "      <td>0</td>\n",
       "      <td>0</td>\n",
       "      <td>0</td>\n",
       "      <td>0</td>\n",
       "      <td>0</td>\n",
       "      <td>0</td>\n",
       "      <td>0</td>\n",
       "      <td>0</td>\n",
       "      <td>0</td>\n",
       "      <td>0</td>\n",
       "      <td>0</td>\n",
       "      <td>0</td>\n",
       "      <td>0</td>\n",
       "      <td>0</td>\n",
       "      <td>0</td>\n",
       "      <td>1</td>\n",
       "      <td>0</td>\n",
       "      <td>0</td>\n",
       "      <td>0</td>\n",
       "      <td>0</td>\n",
       "      <td>0</td>\n",
       "      <td>0</td>\n",
       "    </tr>\n",
       "    <tr>\n",
       "      <th>72922</th>\n",
       "      <td>1.0</td>\n",
       "      <td>-0.138889</td>\n",
       "      <td>-0.967584</td>\n",
       "      <td>0</td>\n",
       "      <td>0</td>\n",
       "      <td>1</td>\n",
       "      <td>0</td>\n",
       "      <td>0</td>\n",
       "      <td>0</td>\n",
       "      <td>0</td>\n",
       "      <td>0</td>\n",
       "      <td>0</td>\n",
       "      <td>0</td>\n",
       "      <td>0</td>\n",
       "      <td>0</td>\n",
       "      <td>0</td>\n",
       "      <td>1</td>\n",
       "      <td>0</td>\n",
       "      <td>0</td>\n",
       "      <td>0</td>\n",
       "      <td>0</td>\n",
       "      <td>0</td>\n",
       "      <td>0</td>\n",
       "      <td>0</td>\n",
       "      <td>0</td>\n",
       "      <td>0</td>\n",
       "      <td>0</td>\n",
       "      <td>0</td>\n",
       "      <td>0</td>\n",
       "      <td>0</td>\n",
       "    </tr>\n",
       "    <tr>\n",
       "      <th>18911</th>\n",
       "      <td>1.0</td>\n",
       "      <td>18.138889</td>\n",
       "      <td>-1.108663</td>\n",
       "      <td>0</td>\n",
       "      <td>1</td>\n",
       "      <td>0</td>\n",
       "      <td>0</td>\n",
       "      <td>0</td>\n",
       "      <td>0</td>\n",
       "      <td>0</td>\n",
       "      <td>0</td>\n",
       "      <td>0</td>\n",
       "      <td>0</td>\n",
       "      <td>0</td>\n",
       "      <td>0</td>\n",
       "      <td>0</td>\n",
       "      <td>0</td>\n",
       "      <td>0</td>\n",
       "      <td>0</td>\n",
       "      <td>0</td>\n",
       "      <td>0</td>\n",
       "      <td>0</td>\n",
       "      <td>0</td>\n",
       "      <td>0</td>\n",
       "      <td>0</td>\n",
       "      <td>0</td>\n",
       "      <td>0</td>\n",
       "      <td>0</td>\n",
       "      <td>0</td>\n",
       "      <td>1</td>\n",
       "    </tr>\n",
       "  </tbody>\n",
       "</table>\n",
       "</div>"
      ],
      "text/plain": [
       "       const  temperature  humidity_refl_log  precip_None  precip_rain  \\\n",
       "74674    1.0    22.800000          -0.274437            0            1   \n",
       "11092    1.0     6.761111          -1.609438            0            1   \n",
       "3761     1.0    30.838889          -0.314711            0            1   \n",
       "72922    1.0    -0.138889          -0.967584            0            0   \n",
       "18911    1.0    18.138889          -1.108663            0            1   \n",
       "\n",
       "       precip_snow  hour_0  hour_1  hour_2  hour_3  hour_4  hour_5  hour_6  \\\n",
       "74674            0       0       0       0       0       0       0       0   \n",
       "11092            0       0       0       0       0       1       0       0   \n",
       "3761             0       0       0       0       0       0       0       0   \n",
       "72922            1       0       0       0       0       0       0       0   \n",
       "18911            0       0       0       0       0       0       0       0   \n",
       "\n",
       "       hour_7  hour_8  hour_9  hour_10  hour_11  hour_12  hour_13  hour_14  \\\n",
       "74674       0       0       0        0        0        0        1        0   \n",
       "11092       0       0       0        0        0        0        0        0   \n",
       "3761        0       0       0        0        0        0        0        0   \n",
       "72922       0       0       0        1        0        0        0        0   \n",
       "18911       0       0       0        0        0        0        0        0   \n",
       "\n",
       "       hour_15  hour_16  hour_17  hour_18  hour_19  hour_20  hour_21  hour_22  \\\n",
       "74674        0        0        0        0        0        0        0        0   \n",
       "11092        0        0        0        0        0        0        0        0   \n",
       "3761         0        0        1        0        0        0        0        0   \n",
       "72922        0        0        0        0        0        0        0        0   \n",
       "18911        0        0        0        0        0        0        0        0   \n",
       "\n",
       "       hour_23  \n",
       "74674        0  \n",
       "11092        0  \n",
       "3761         0  \n",
       "72922        0  \n",
       "18911        1  "
      ]
     },
     "execution_count": 34,
     "metadata": {},
     "output_type": "execute_result"
    }
   ],
   "source": [
    "X_train.head()"
   ]
  },
  {
   "cell_type": "markdown",
   "metadata": {},
   "source": [
    "### Building the Model"
   ]
  },
  {
   "cell_type": "code",
   "execution_count": 35,
   "metadata": {},
   "outputs": [],
   "source": [
    "# build the LR model\n",
    "lm = sm.OLS(y_train, X_train).fit()"
   ]
  },
  {
   "cell_type": "code",
   "execution_count": 36,
   "metadata": {},
   "outputs": [
    {
     "data": {
      "text/html": [
       "<table class=\"simpletable\">\n",
       "<caption>OLS Regression Results</caption>\n",
       "<tr>\n",
       "  <th>Dep. Variable:</th>    <td>apparentTemperature</td> <th>  R-squared:         </th>  <td>   0.985</td>  \n",
       "</tr>\n",
       "<tr>\n",
       "  <th>Model:</th>                    <td>OLS</td>         <th>  Adj. R-squared:    </th>  <td>   0.985</td>  \n",
       "</tr>\n",
       "<tr>\n",
       "  <th>Method:</th>              <td>Least Squares</td>    <th>  F-statistic:       </th>  <td>1.623e+05</td> \n",
       "</tr>\n",
       "<tr>\n",
       "  <th>Date:</th>              <td>Mon, 13 Dec 2021</td>   <th>  Prob (F-statistic):</th>   <td>  0.00</td>   \n",
       "</tr>\n",
       "<tr>\n",
       "  <th>Time:</th>                  <td>23:09:07</td>       <th>  Log-Likelihood:    </th> <td>-1.1431e+05</td>\n",
       "</tr>\n",
       "<tr>\n",
       "  <th>No. Observations:</th>       <td> 67500</td>        <th>  AIC:               </th>  <td>2.287e+05</td> \n",
       "</tr>\n",
       "<tr>\n",
       "  <th>Df Residuals:</th>           <td> 67472</td>        <th>  BIC:               </th>  <td>2.289e+05</td> \n",
       "</tr>\n",
       "<tr>\n",
       "  <th>Df Model:</th>               <td>    27</td>        <th>                     </th>      <td> </td>     \n",
       "</tr>\n",
       "<tr>\n",
       "  <th>Covariance Type:</th>       <td>nonrobust</td>      <th>                     </th>      <td> </td>     \n",
       "</tr>\n",
       "</table>\n",
       "<table class=\"simpletable\">\n",
       "<tr>\n",
       "          <td></td>             <th>coef</th>     <th>std err</th>      <th>t</th>      <th>P>|t|</th>  <th>[0.025</th>    <th>0.975]</th>  \n",
       "</tr>\n",
       "<tr>\n",
       "  <th>const</th>             <td>   -2.4393</td> <td>    0.022</td> <td> -111.512</td> <td> 0.000</td> <td>   -2.482</td> <td>   -2.396</td>\n",
       "</tr>\n",
       "<tr>\n",
       "  <th>temperature</th>       <td>    1.1343</td> <td>    0.001</td> <td> 1450.423</td> <td> 0.000</td> <td>    1.133</td> <td>    1.136</td>\n",
       "</tr>\n",
       "<tr>\n",
       "  <th>humidity_refl_log</th> <td>   -0.6438</td> <td>    0.013</td> <td>  -50.882</td> <td> 0.000</td> <td>   -0.669</td> <td>   -0.619</td>\n",
       "</tr>\n",
       "<tr>\n",
       "  <th>precip_None</th>       <td>   -0.4750</td> <td>    0.051</td> <td>   -9.276</td> <td> 0.000</td> <td>   -0.575</td> <td>   -0.375</td>\n",
       "</tr>\n",
       "<tr>\n",
       "  <th>precip_rain</th>       <td>   -0.8689</td> <td>    0.020</td> <td>  -44.107</td> <td> 0.000</td> <td>   -0.908</td> <td>   -0.830</td>\n",
       "</tr>\n",
       "<tr>\n",
       "  <th>precip_snow</th>       <td>   -1.0954</td> <td>    0.022</td> <td>  -50.641</td> <td> 0.000</td> <td>   -1.138</td> <td>   -1.053</td>\n",
       "</tr>\n",
       "<tr>\n",
       "  <th>hour_0</th>            <td>    0.0033</td> <td>    0.024</td> <td>    0.134</td> <td> 0.893</td> <td>   -0.044</td> <td>    0.051</td>\n",
       "</tr>\n",
       "<tr>\n",
       "  <th>hour_1</th>            <td>    0.0867</td> <td>    0.025</td> <td>    3.533</td> <td> 0.000</td> <td>    0.039</td> <td>    0.135</td>\n",
       "</tr>\n",
       "<tr>\n",
       "  <th>hour_2</th>            <td>    0.0308</td> <td>    0.024</td> <td>    1.257</td> <td> 0.209</td> <td>   -0.017</td> <td>    0.079</td>\n",
       "</tr>\n",
       "<tr>\n",
       "  <th>hour_3</th>            <td>    0.0084</td> <td>    0.025</td> <td>    0.342</td> <td> 0.732</td> <td>   -0.040</td> <td>    0.057</td>\n",
       "</tr>\n",
       "<tr>\n",
       "  <th>hour_4</th>            <td>   -0.0308</td> <td>    0.025</td> <td>   -1.252</td> <td> 0.210</td> <td>   -0.079</td> <td>    0.017</td>\n",
       "</tr>\n",
       "<tr>\n",
       "  <th>hour_5</th>            <td>   -0.0129</td> <td>    0.025</td> <td>   -0.520</td> <td> 0.603</td> <td>   -0.061</td> <td>    0.036</td>\n",
       "</tr>\n",
       "<tr>\n",
       "  <th>hour_6</th>            <td>   -0.0708</td> <td>    0.025</td> <td>   -2.850</td> <td> 0.004</td> <td>   -0.119</td> <td>   -0.022</td>\n",
       "</tr>\n",
       "<tr>\n",
       "  <th>hour_7</th>            <td>   -0.0657</td> <td>    0.025</td> <td>   -2.663</td> <td> 0.008</td> <td>   -0.114</td> <td>   -0.017</td>\n",
       "</tr>\n",
       "<tr>\n",
       "  <th>hour_8</th>            <td>   -0.1243</td> <td>    0.024</td> <td>   -5.102</td> <td> 0.000</td> <td>   -0.172</td> <td>   -0.077</td>\n",
       "</tr>\n",
       "<tr>\n",
       "  <th>hour_9</th>            <td>   -0.1780</td> <td>    0.024</td> <td>   -7.284</td> <td> 0.000</td> <td>   -0.226</td> <td>   -0.130</td>\n",
       "</tr>\n",
       "<tr>\n",
       "  <th>hour_10</th>           <td>   -0.1826</td> <td>    0.024</td> <td>   -7.490</td> <td> 0.000</td> <td>   -0.230</td> <td>   -0.135</td>\n",
       "</tr>\n",
       "<tr>\n",
       "  <th>hour_11</th>           <td>   -0.1858</td> <td>    0.024</td> <td>   -7.598</td> <td> 0.000</td> <td>   -0.234</td> <td>   -0.138</td>\n",
       "</tr>\n",
       "<tr>\n",
       "  <th>hour_12</th>           <td>   -0.2212</td> <td>    0.025</td> <td>   -9.014</td> <td> 0.000</td> <td>   -0.269</td> <td>   -0.173</td>\n",
       "</tr>\n",
       "<tr>\n",
       "  <th>hour_13</th>           <td>   -0.2534</td> <td>    0.025</td> <td>  -10.325</td> <td> 0.000</td> <td>   -0.302</td> <td>   -0.205</td>\n",
       "</tr>\n",
       "<tr>\n",
       "  <th>hour_14</th>           <td>   -0.2732</td> <td>    0.025</td> <td>  -11.072</td> <td> 0.000</td> <td>   -0.322</td> <td>   -0.225</td>\n",
       "</tr>\n",
       "<tr>\n",
       "  <th>hour_15</th>           <td>   -0.2771</td> <td>    0.025</td> <td>  -11.230</td> <td> 0.000</td> <td>   -0.325</td> <td>   -0.229</td>\n",
       "</tr>\n",
       "<tr>\n",
       "  <th>hour_16</th>           <td>   -0.2439</td> <td>    0.024</td> <td>   -9.968</td> <td> 0.000</td> <td>   -0.292</td> <td>   -0.196</td>\n",
       "</tr>\n",
       "<tr>\n",
       "  <th>hour_17</th>           <td>   -0.2003</td> <td>    0.025</td> <td>   -8.137</td> <td> 0.000</td> <td>   -0.249</td> <td>   -0.152</td>\n",
       "</tr>\n",
       "<tr>\n",
       "  <th>hour_18</th>           <td>   -0.1551</td> <td>    0.025</td> <td>   -6.310</td> <td> 0.000</td> <td>   -0.203</td> <td>   -0.107</td>\n",
       "</tr>\n",
       "<tr>\n",
       "  <th>hour_19</th>           <td>   -0.0636</td> <td>    0.024</td> <td>   -2.597</td> <td> 0.009</td> <td>   -0.112</td> <td>   -0.016</td>\n",
       "</tr>\n",
       "<tr>\n",
       "  <th>hour_20</th>           <td>   -0.0094</td> <td>    0.024</td> <td>   -0.388</td> <td> 0.698</td> <td>   -0.057</td> <td>    0.038</td>\n",
       "</tr>\n",
       "<tr>\n",
       "  <th>hour_21</th>           <td>   -0.0127</td> <td>    0.024</td> <td>   -0.525</td> <td> 0.600</td> <td>   -0.060</td> <td>    0.035</td>\n",
       "</tr>\n",
       "<tr>\n",
       "  <th>hour_22</th>           <td>   -0.0195</td> <td>    0.024</td> <td>   -0.802</td> <td> 0.423</td> <td>   -0.067</td> <td>    0.028</td>\n",
       "</tr>\n",
       "<tr>\n",
       "  <th>hour_23</th>           <td>    0.0117</td> <td>    0.024</td> <td>    0.480</td> <td> 0.631</td> <td>   -0.036</td> <td>    0.060</td>\n",
       "</tr>\n",
       "</table>\n",
       "<table class=\"simpletable\">\n",
       "<tr>\n",
       "  <th>Omnibus:</th>       <td>32204.401</td> <th>  Durbin-Watson:     </th>  <td>   2.018</td>  \n",
       "</tr>\n",
       "<tr>\n",
       "  <th>Prob(Omnibus):</th>  <td> 0.000</td>   <th>  Jarque-Bera (JB):  </th> <td>1401101.872</td>\n",
       "</tr>\n",
       "<tr>\n",
       "  <th>Skew:</th>           <td>-1.592</td>   <th>  Prob(JB):          </th>  <td>    0.00</td>  \n",
       "</tr>\n",
       "<tr>\n",
       "  <th>Kurtosis:</th>       <td>25.091</td>   <th>  Cond. No.          </th>  <td>5.34e+15</td>  \n",
       "</tr>\n",
       "</table><br/><br/>Notes:<br/>[1] Standard Errors assume that the covariance matrix of the errors is correctly specified.<br/>[2] The smallest eigenvalue is 5.57e-25. This might indicate that there are<br/>strong multicollinearity problems or that the design matrix is singular."
      ],
      "text/plain": [
       "<class 'statsmodels.iolib.summary.Summary'>\n",
       "\"\"\"\n",
       "                             OLS Regression Results                            \n",
       "===============================================================================\n",
       "Dep. Variable:     apparentTemperature   R-squared:                       0.985\n",
       "Model:                             OLS   Adj. R-squared:                  0.985\n",
       "Method:                  Least Squares   F-statistic:                 1.623e+05\n",
       "Date:                 Mon, 13 Dec 2021   Prob (F-statistic):               0.00\n",
       "Time:                         23:09:07   Log-Likelihood:            -1.1431e+05\n",
       "No. Observations:                67500   AIC:                         2.287e+05\n",
       "Df Residuals:                    67472   BIC:                         2.289e+05\n",
       "Df Model:                           27                                         \n",
       "Covariance Type:             nonrobust                                         \n",
       "=====================================================================================\n",
       "                        coef    std err          t      P>|t|      [0.025      0.975]\n",
       "-------------------------------------------------------------------------------------\n",
       "const                -2.4393      0.022   -111.512      0.000      -2.482      -2.396\n",
       "temperature           1.1343      0.001   1450.423      0.000       1.133       1.136\n",
       "humidity_refl_log    -0.6438      0.013    -50.882      0.000      -0.669      -0.619\n",
       "precip_None          -0.4750      0.051     -9.276      0.000      -0.575      -0.375\n",
       "precip_rain          -0.8689      0.020    -44.107      0.000      -0.908      -0.830\n",
       "precip_snow          -1.0954      0.022    -50.641      0.000      -1.138      -1.053\n",
       "hour_0                0.0033      0.024      0.134      0.893      -0.044       0.051\n",
       "hour_1                0.0867      0.025      3.533      0.000       0.039       0.135\n",
       "hour_2                0.0308      0.024      1.257      0.209      -0.017       0.079\n",
       "hour_3                0.0084      0.025      0.342      0.732      -0.040       0.057\n",
       "hour_4               -0.0308      0.025     -1.252      0.210      -0.079       0.017\n",
       "hour_5               -0.0129      0.025     -0.520      0.603      -0.061       0.036\n",
       "hour_6               -0.0708      0.025     -2.850      0.004      -0.119      -0.022\n",
       "hour_7               -0.0657      0.025     -2.663      0.008      -0.114      -0.017\n",
       "hour_8               -0.1243      0.024     -5.102      0.000      -0.172      -0.077\n",
       "hour_9               -0.1780      0.024     -7.284      0.000      -0.226      -0.130\n",
       "hour_10              -0.1826      0.024     -7.490      0.000      -0.230      -0.135\n",
       "hour_11              -0.1858      0.024     -7.598      0.000      -0.234      -0.138\n",
       "hour_12              -0.2212      0.025     -9.014      0.000      -0.269      -0.173\n",
       "hour_13              -0.2534      0.025    -10.325      0.000      -0.302      -0.205\n",
       "hour_14              -0.2732      0.025    -11.072      0.000      -0.322      -0.225\n",
       "hour_15              -0.2771      0.025    -11.230      0.000      -0.325      -0.229\n",
       "hour_16              -0.2439      0.024     -9.968      0.000      -0.292      -0.196\n",
       "hour_17              -0.2003      0.025     -8.137      0.000      -0.249      -0.152\n",
       "hour_18              -0.1551      0.025     -6.310      0.000      -0.203      -0.107\n",
       "hour_19              -0.0636      0.024     -2.597      0.009      -0.112      -0.016\n",
       "hour_20              -0.0094      0.024     -0.388      0.698      -0.057       0.038\n",
       "hour_21              -0.0127      0.024     -0.525      0.600      -0.060       0.035\n",
       "hour_22              -0.0195      0.024     -0.802      0.423      -0.067       0.028\n",
       "hour_23               0.0117      0.024      0.480      0.631      -0.036       0.060\n",
       "==============================================================================\n",
       "Omnibus:                    32204.401   Durbin-Watson:                   2.018\n",
       "Prob(Omnibus):                  0.000   Jarque-Bera (JB):          1401101.872\n",
       "Skew:                          -1.592   Prob(JB):                         0.00\n",
       "Kurtosis:                      25.091   Cond. No.                     5.34e+15\n",
       "==============================================================================\n",
       "\n",
       "Notes:\n",
       "[1] Standard Errors assume that the covariance matrix of the errors is correctly specified.\n",
       "[2] The smallest eigenvalue is 5.57e-25. This might indicate that there are\n",
       "strong multicollinearity problems or that the design matrix is singular.\n",
       "\"\"\""
      ]
     },
     "execution_count": 36,
     "metadata": {},
     "output_type": "execute_result"
    }
   ],
   "source": [
    "# interpret the result\n",
    "lm.summary()"
   ]
  },
  {
   "cell_type": "markdown",
   "metadata": {},
   "source": [
    "#### Model Summary Statistics - \n",
    "\n",
    "1. Model has an `Adjusted R Squared = 0.985`. This indicates that the model might be a great fit for the given data.\n",
    "2. A high, and sifgnificant, F-statistic also indicates that our model is better than a model that would use only the intercept.\n",
    "3. "
   ]
  },
  {
   "cell_type": "markdown",
   "metadata": {},
   "source": [
    "### Validating Assumptions"
   ]
  },
  {
   "cell_type": "code",
   "execution_count": 37,
   "metadata": {},
   "outputs": [],
   "source": [
    "# function to get residuals\n",
    "def get_residuals(model, X, y):\n",
    "    y_predicted = lm.predict(X_train)\n",
    "    y_actual = y_train\n",
    "    residuals = y_predicted - y_actual\n",
    "    return residuals"
   ]
  },
  {
   "cell_type": "code",
   "execution_count": 38,
   "metadata": {},
   "outputs": [
    {
     "data": {
      "text/plain": [
       "1.0327228126159214e-13"
      ]
     },
     "execution_count": 38,
     "metadata": {},
     "output_type": "execute_result"
    }
   ],
   "source": [
    "# 1. Residual Mean is 0\n",
    "residuals = get_residuals(lm, X_train, y_train)\n",
    "residuals.mean()"
   ]
  },
  {
   "cell_type": "code",
   "execution_count": 39,
   "metadata": {},
   "outputs": [
    {
     "data": {
      "text/plain": [
       "Text(0, 0.5, 'residuals')"
      ]
     },
     "execution_count": 39,
     "metadata": {},
     "output_type": "execute_result"
    },
    {
     "data": {
      "image/png": "[encoded data removed]",
      "text/plain": [
       "<Figure size 432x288 with 1 Axes>"
      ]
     },
     "metadata": {
      "needs_background": "light"
     },
     "output_type": "display_data"
    }
   ],
   "source": [
    "# 2. Homoscedasticity - Residuals have a constant variance\n",
    "p = sns.residplot(y = residuals, x = y_train)\n",
    "p.set_xlabel(\"apparentTemperature\", fontsize = 14)\n",
    "p.set_ylabel(\"residuals\", fontsize = 14)"
   ]
  },
  {
   "cell_type": "code",
   "execution_count": 40,
   "metadata": {},
   "outputs": [
    {
     "data": {
      "text/plain": [
       "((array([-4.25896471, -4.05632172, -3.94595949, ...,  3.94595949,\n",
       "          4.05632172,  4.25896471]),\n",
       "  array([-5.61780498, -5.44570534, -5.36193993, ..., 23.00699757,\n",
       "         23.35483671, 24.77391515])),\n",
       " (1.268447497488982, 1.0386026628387374e-13, 0.9638460105316455))"
      ]
     },
     "execution_count": 40,
     "metadata": {},
     "output_type": "execute_result"
    },
    {
     "data": {
      "image/png": "[encoded data removed]",
      "text/plain": [
       "<Figure size 432x288 with 1 Axes>"
      ]
     },
     "metadata": {
      "needs_background": "light"
     },
     "output_type": "display_data"
    }
   ],
   "source": [
    "# 3. Residuals are normally distributed\n",
    "from scipy.stats import probplot\n",
    "probplot(residuals, plot = plt)"
   ]
  },
  {
   "cell_type": "markdown",
   "metadata": {},
   "source": [
    "### Cross Validation"
   ]
  },
  {
   "cell_type": "code",
   "execution_count": 41,
   "metadata": {},
   "outputs": [
    {
     "data": {
      "text/html": [
       "<div>\n",
       "<style scoped>\n",
       "    .dataframe tbody tr th:only-of-type {\n",
       "        vertical-align: middle;\n",
       "    }\n",
       "\n",
       "    .dataframe tbody tr th {\n",
       "        vertical-align: top;\n",
       "    }\n",
       "\n",
       "    .dataframe thead th {\n",
       "        text-align: right;\n",
       "    }\n",
       "</style>\n",
       "<table border=\"1\" class=\"dataframe\">\n",
       "  <thead>\n",
       "    <tr style=\"text-align: right;\">\n",
       "      <th></th>\n",
       "      <th>Fold</th>\n",
       "      <th>MSE</th>\n",
       "      <th>Ave MSE</th>\n",
       "      <th>MSE Diff</th>\n",
       "      <th>RMSE</th>\n",
       "      <th>Ave RMSE</th>\n",
       "      <th>RMSE Diff</th>\n",
       "    </tr>\n",
       "  </thead>\n",
       "  <tbody>\n",
       "    <tr>\n",
       "      <th>0</th>\n",
       "      <td>1.0</td>\n",
       "      <td>1.708226</td>\n",
       "      <td>1.733343</td>\n",
       "      <td>-0.025117</td>\n",
       "      <td>1.306991</td>\n",
       "      <td>1.316341</td>\n",
       "      <td>-0.009350</td>\n",
       "    </tr>\n",
       "    <tr>\n",
       "      <th>1</th>\n",
       "      <td>2.0</td>\n",
       "      <td>1.639425</td>\n",
       "      <td>1.733343</td>\n",
       "      <td>-0.093919</td>\n",
       "      <td>1.280400</td>\n",
       "      <td>1.316341</td>\n",
       "      <td>-0.035941</td>\n",
       "    </tr>\n",
       "    <tr>\n",
       "      <th>2</th>\n",
       "      <td>3.0</td>\n",
       "      <td>1.721177</td>\n",
       "      <td>1.733343</td>\n",
       "      <td>-0.012167</td>\n",
       "      <td>1.311936</td>\n",
       "      <td>1.316341</td>\n",
       "      <td>-0.004405</td>\n",
       "    </tr>\n",
       "    <tr>\n",
       "      <th>3</th>\n",
       "      <td>4.0</td>\n",
       "      <td>1.832326</td>\n",
       "      <td>1.733343</td>\n",
       "      <td>0.098982</td>\n",
       "      <td>1.353634</td>\n",
       "      <td>1.316341</td>\n",
       "      <td>0.037293</td>\n",
       "    </tr>\n",
       "    <tr>\n",
       "      <th>4</th>\n",
       "      <td>5.0</td>\n",
       "      <td>1.765564</td>\n",
       "      <td>1.733343</td>\n",
       "      <td>0.032221</td>\n",
       "      <td>1.328745</td>\n",
       "      <td>1.316341</td>\n",
       "      <td>0.012404</td>\n",
       "    </tr>\n",
       "  </tbody>\n",
       "</table>\n",
       "</div>"
      ],
      "text/plain": [
       "   Fold       MSE   Ave MSE  MSE Diff      RMSE  Ave RMSE  RMSE Diff\n",
       "0   1.0  1.708226  1.733343 -0.025117  1.306991  1.316341  -0.009350\n",
       "1   2.0  1.639425  1.733343 -0.093919  1.280400  1.316341  -0.035941\n",
       "2   3.0  1.721177  1.733343 -0.012167  1.311936  1.316341  -0.004405\n",
       "3   4.0  1.832326  1.733343  0.098982  1.353634  1.316341   0.037293\n",
       "4   5.0  1.765564  1.733343  0.032221  1.328745  1.316341   0.012404"
      ]
     },
     "execution_count": 41,
     "metadata": {},
     "output_type": "execute_result"
    }
   ],
   "source": [
    "# K Fold CV with K=5\n",
    "from sklearn.model_selection import KFold \n",
    "kf = KFold(n_splits=5)\n",
    "\n",
    "fold = 1\n",
    "cv_df = pd.DataFrame(columns = ['Fold', 'MSE', 'RMSE'])\n",
    "# split the training further into train and test\n",
    "for train_index, test_index in kf.split(X_train):    \n",
    "    cv_train_x = X_train.iloc[train_index,]\n",
    "    cv_train_y = y_train.iloc[train_index,]\n",
    "    \n",
    "    cv_test_x = X_train.iloc[test_index,]\n",
    "    cv_test_y = y_train.iloc[test_index,]\n",
    "    \n",
    "    # build the model on the CV training data and predict on CV testing data\n",
    "    cv_lm = sm.OLS(cv_train_y, cv_train_x).fit()\n",
    "    cv_prdct = cv_lm.predict(cv_test_x)\n",
    "    \n",
    "    # mean square error\n",
    "    cv_mse = np.mean((cv_prdct - cv_test_y)**2)\n",
    "    cv_df.loc[len(cv_df)] = [fold, cv_mse, np.sqrt(cv_mse)]\n",
    "    \n",
    "    fold+=1\n",
    "\n",
    "cv_df['Ave MSE'] = cv_df['MSE'].mean()\n",
    "cv_df['Ave RMSE'] = cv_df['RMSE'].mean()\n",
    "cv_df['MSE Diff'] = cv_df['MSE'] - cv_df['Ave MSE']\n",
    "cv_df['RMSE Diff'] = cv_df['RMSE'] - cv_df['Ave RMSE']\n",
    "    \n",
    "cv_df = cv_df.iloc[:, [0,1,3,5,2,4,6]]  # rearranging\n",
    "cv_df"
   ]
  },
  {
   "cell_type": "markdown",
   "metadata": {},
   "source": [
    "Getting a consistently good KFold CV results, we will move ahead with our model."
   ]
  },
  {
   "cell_type": "markdown",
   "metadata": {},
   "source": [
    "### Model Performance Parameter (MSE, RMSE)"
   ]
  },
  {
   "cell_type": "code",
   "execution_count": 42,
   "metadata": {},
   "outputs": [
    {
     "name": "stdout",
     "output_type": "stream",
     "text": [
      "Model MSE, RMSE for training dataset = 1.73 , 1.32\n",
      "Model MSE, RMSE for testing dataset = 1.67 , 1.29\n",
      "Comparing this with average of predicted values = 10.85\n"
     ]
    }
   ],
   "source": [
    "# mse\n",
    "mse_train = np.mean((lm.predict(X_train) - y_train)**2)\n",
    "mse_test = np.mean((lm.predict(X_test) - y_test)**2)\n",
    "rmse_train = np.sqrt(mse_train)\n",
    "rmse_test = np.sqrt(mse_test)\n",
    "print(\"Model MSE, RMSE for training dataset =\", format(mse_train, '.2f'), \",\", format(rmse_train, '.2f'))\n",
    "print(\"Model MSE, RMSE for testing dataset =\", format(mse_test, '.2f'), \",\", format(rmse_test, '.2f'))\n",
    "print(\"Comparing this with average of predicted values =\", format(df['apparentTemperature'].mean(), '.2f'))"
   ]
  },
  {
   "cell_type": "markdown",
   "metadata": {},
   "source": [
    "### Comparing Predictions"
   ]
  },
  {
   "cell_type": "code",
   "execution_count": 43,
   "metadata": {},
   "outputs": [
    {
     "data": {
      "text/html": [
       "<div>\n",
       "<style scoped>\n",
       "    .dataframe tbody tr th:only-of-type {\n",
       "        vertical-align: middle;\n",
       "    }\n",
       "\n",
       "    .dataframe tbody tr th {\n",
       "        vertical-align: top;\n",
       "    }\n",
       "\n",
       "    .dataframe thead th {\n",
       "        text-align: right;\n",
       "    }\n",
       "</style>\n",
       "<table border=\"1\" class=\"dataframe\">\n",
       "  <thead>\n",
       "    <tr style=\"text-align: right;\">\n",
       "      <th></th>\n",
       "      <th>temperature</th>\n",
       "      <th>humidity_refl_log</th>\n",
       "      <th>precip</th>\n",
       "      <th>hour</th>\n",
       "      <th>apparentTemperature</th>\n",
       "      <th>predicted_apparentTemperature</th>\n",
       "    </tr>\n",
       "  </thead>\n",
       "  <tbody>\n",
       "    <tr>\n",
       "      <th>25072</th>\n",
       "      <td>10.055556</td>\n",
       "      <td>-1.272966</td>\n",
       "      <td>rain</td>\n",
       "      <td>17</td>\n",
       "      <td>10.055556</td>\n",
       "      <td>8.716586</td>\n",
       "    </tr>\n",
       "    <tr>\n",
       "      <th>76991</th>\n",
       "      <td>-0.366667</td>\n",
       "      <td>-1.966113</td>\n",
       "      <td>snow</td>\n",
       "      <td>3</td>\n",
       "      <td>-0.366667</td>\n",
       "      <td>-2.676327</td>\n",
       "    </tr>\n",
       "    <tr>\n",
       "      <th>22153</th>\n",
       "      <td>17.688889</td>\n",
       "      <td>-1.609438</td>\n",
       "      <td>rain</td>\n",
       "      <td>1</td>\n",
       "      <td>17.688889</td>\n",
       "      <td>17.878319</td>\n",
       "    </tr>\n",
       "    <tr>\n",
       "      <th>38576</th>\n",
       "      <td>-9.150000</td>\n",
       "      <td>-1.386294</td>\n",
       "      <td>snow</td>\n",
       "      <td>8</td>\n",
       "      <td>-9.150000</td>\n",
       "      <td>-13.144823</td>\n",
       "    </tr>\n",
       "    <tr>\n",
       "      <th>82949</th>\n",
       "      <td>27.122222</td>\n",
       "      <td>-0.494296</td>\n",
       "      <td>rain</td>\n",
       "      <td>8</td>\n",
       "      <td>27.461111</td>\n",
       "      <td>27.649217</td>\n",
       "    </tr>\n",
       "    <tr>\n",
       "      <th>76329</th>\n",
       "      <td>27.777778</td>\n",
       "      <td>-0.328504</td>\n",
       "      <td>rain</td>\n",
       "      <td>13</td>\n",
       "      <td>27.344444</td>\n",
       "      <td>28.156889</td>\n",
       "    </tr>\n",
       "    <tr>\n",
       "      <th>76376</th>\n",
       "      <td>25.072222</td>\n",
       "      <td>-0.579818</td>\n",
       "      <td>rain</td>\n",
       "      <td>12</td>\n",
       "      <td>25.072222</td>\n",
       "      <td>25.282156</td>\n",
       "    </tr>\n",
       "    <tr>\n",
       "      <th>1413</th>\n",
       "      <td>17.222222</td>\n",
       "      <td>-1.771957</td>\n",
       "      <td>rain</td>\n",
       "      <td>21</td>\n",
       "      <td>17.222222</td>\n",
       "      <td>17.354222</td>\n",
       "    </tr>\n",
       "    <tr>\n",
       "      <th>62787</th>\n",
       "      <td>17.388889</td>\n",
       "      <td>-1.309333</td>\n",
       "      <td>rain</td>\n",
       "      <td>3</td>\n",
       "      <td>17.388889</td>\n",
       "      <td>17.266567</td>\n",
       "    </tr>\n",
       "    <tr>\n",
       "      <th>57802</th>\n",
       "      <td>7.116667</td>\n",
       "      <td>-0.415515</td>\n",
       "      <td>rain</td>\n",
       "      <td>10</td>\n",
       "      <td>3.494444</td>\n",
       "      <td>4.848762</td>\n",
       "    </tr>\n",
       "    <tr>\n",
       "      <th>65911</th>\n",
       "      <td>19.822222</td>\n",
       "      <td>-1.469676</td>\n",
       "      <td>rain</td>\n",
       "      <td>7</td>\n",
       "      <td>19.822222</td>\n",
       "      <td>20.055661</td>\n",
       "    </tr>\n",
       "    <tr>\n",
       "      <th>226</th>\n",
       "      <td>15.088889</td>\n",
       "      <td>-1.108663</td>\n",
       "      <td>rain</td>\n",
       "      <td>10</td>\n",
       "      <td>15.088889</td>\n",
       "      <td>14.337529</td>\n",
       "    </tr>\n",
       "    <tr>\n",
       "      <th>47047</th>\n",
       "      <td>1.027778</td>\n",
       "      <td>-1.427116</td>\n",
       "      <td>rain</td>\n",
       "      <td>7</td>\n",
       "      <td>-3.938889</td>\n",
       "      <td>-1.289390</td>\n",
       "    </tr>\n",
       "    <tr>\n",
       "      <th>93825</th>\n",
       "      <td>21.155556</td>\n",
       "      <td>-0.385662</td>\n",
       "      <td>rain</td>\n",
       "      <td>13</td>\n",
       "      <td>21.155556</td>\n",
       "      <td>20.682414</td>\n",
       "    </tr>\n",
       "    <tr>\n",
       "      <th>66115</th>\n",
       "      <td>28.861111</td>\n",
       "      <td>-0.494296</td>\n",
       "      <td>rain</td>\n",
       "      <td>19</td>\n",
       "      <td>29.405556</td>\n",
       "      <td>29.682195</td>\n",
       "    </tr>\n",
       "    <tr>\n",
       "      <th>65784</th>\n",
       "      <td>18.288889</td>\n",
       "      <td>-1.609438</td>\n",
       "      <td>rain</td>\n",
       "      <td>0</td>\n",
       "      <td>18.288889</td>\n",
       "      <td>18.475439</td>\n",
       "    </tr>\n",
       "    <tr>\n",
       "      <th>67439</th>\n",
       "      <td>14.377778</td>\n",
       "      <td>-2.302585</td>\n",
       "      <td>rain</td>\n",
       "      <td>0</td>\n",
       "      <td>14.377778</td>\n",
       "      <td>14.485501</td>\n",
       "    </tr>\n",
       "    <tr>\n",
       "      <th>86409</th>\n",
       "      <td>12.850000</td>\n",
       "      <td>-1.966113</td>\n",
       "      <td>rain</td>\n",
       "      <td>13</td>\n",
       "      <td>12.850000</td>\n",
       "      <td>12.279316</td>\n",
       "    </tr>\n",
       "    <tr>\n",
       "      <th>43622</th>\n",
       "      <td>20.716667</td>\n",
       "      <td>-0.527633</td>\n",
       "      <td>rain</td>\n",
       "      <td>14</td>\n",
       "      <td>20.716667</td>\n",
       "      <td>20.256174</td>\n",
       "    </tr>\n",
       "    <tr>\n",
       "      <th>53282</th>\n",
       "      <td>8.977778</td>\n",
       "      <td>-1.427116</td>\n",
       "      <td>rain</td>\n",
       "      <td>2</td>\n",
       "      <td>6.055556</td>\n",
       "      <td>7.824432</td>\n",
       "    </tr>\n",
       "  </tbody>\n",
       "</table>\n",
       "</div>"
      ],
      "text/plain": [
       "       temperature  humidity_refl_log precip hour  apparentTemperature  \\\n",
       "25072    10.055556          -1.272966   rain   17            10.055556   \n",
       "76991    -0.366667          -1.966113   snow    3            -0.366667   \n",
       "22153    17.688889          -1.609438   rain    1            17.688889   \n",
       "38576    -9.150000          -1.386294   snow    8            -9.150000   \n",
       "82949    27.122222          -0.494296   rain    8            27.461111   \n",
       "76329    27.777778          -0.328504   rain   13            27.344444   \n",
       "76376    25.072222          -0.579818   rain   12            25.072222   \n",
       "1413     17.222222          -1.771957   rain   21            17.222222   \n",
       "62787    17.388889          -1.309333   rain    3            17.388889   \n",
       "57802     7.116667          -0.415515   rain   10             3.494444   \n",
       "65911    19.822222          -1.469676   rain    7            19.822222   \n",
       "226      15.088889          -1.108663   rain   10            15.088889   \n",
       "47047     1.027778          -1.427116   rain    7            -3.938889   \n",
       "93825    21.155556          -0.385662   rain   13            21.155556   \n",
       "66115    28.861111          -0.494296   rain   19            29.405556   \n",
       "65784    18.288889          -1.609438   rain    0            18.288889   \n",
       "67439    14.377778          -2.302585   rain    0            14.377778   \n",
       "86409    12.850000          -1.966113   rain   13            12.850000   \n",
       "43622    20.716667          -0.527633   rain   14            20.716667   \n",
       "53282     8.977778          -1.427116   rain    2             6.055556   \n",
       "\n",
       "       predicted_apparentTemperature  \n",
       "25072                       8.716586  \n",
       "76991                      -2.676327  \n",
       "22153                      17.878319  \n",
       "38576                     -13.144823  \n",
       "82949                      27.649217  \n",
       "76329                      28.156889  \n",
       "76376                      25.282156  \n",
       "1413                       17.354222  \n",
       "62787                      17.266567  \n",
       "57802                       4.848762  \n",
       "65911                      20.055661  \n",
       "226                        14.337529  \n",
       "47047                      -1.289390  \n",
       "93825                      20.682414  \n",
       "66115                      29.682195  \n",
       "65784                      18.475439  \n",
       "67439                      14.485501  \n",
       "86409                      12.279316  \n",
       "43622                      20.256174  \n",
       "53282                       7.824432  "
      ]
     },
     "execution_count": 43,
     "metadata": {},
     "output_type": "execute_result"
    }
   ],
   "source": [
    "# predictions vs actuals\n",
    "predictions = lm.predict(X_test)\n",
    "\n",
    "# comparing \n",
    "## generate DF\n",
    "df_test_output = pd.concat([X_test, y_test], axis = 1)\n",
    "df_test_output['predicted_apparentTemperature'] = predictions\n",
    "\n",
    "## restore dummies tocategorical\n",
    "df_test_output['precip'] = df_test_output.loc[:, ['precip_None', 'precip_rain', 'precip_snow']].idxmax(axis=1)\n",
    "df_test_output['precip'] = df_test_output['precip'].apply(lambda e : e.replace('precip_', ''))\n",
    "df_test_output.drop(['precip_None', 'precip_rain', 'precip_snow'], axis=1, inplace = True)\n",
    "\n",
    "df_test_output['hour'] = df_test_output.loc[:, df_test_output.filter(like = 'hour_').columns].idxmax(axis=1)\n",
    "df_test_output['hour'] = df_test_output['hour'].apply(lambda e : e.replace('hour_', ''))\n",
    "df_test_output.drop(df_test_output.filter(like = 'hour_').columns, axis=1, inplace = True)\n",
    "\n",
    "# rearranging columns\n",
    "df_test_output = df_test_output.iloc[:, [1,2,5,6,3,4]]\n",
    "\n",
    "df_test_output.head(20)"
   ]
  },
  {
   "cell_type": "code",
   "execution_count": null,
   "metadata": {},
   "outputs": [],
   "source": []
  },
  {
   "cell_type": "code",
   "execution_count": null,
   "metadata": {},
   "outputs": [],
   "source": []
  }
 ],
 "metadata": {
  "kernelspec": {
   "display_name": "Python 3",
   "language": "python",
   "name": "python3"
  },
  "language_info": {
   "codemirror_mode": {
    "name": "ipython",
    "version": 3
   },
   "file_extension": ".py",
   "mimetype": "text/x-python",
   "name": "python",
   "nbconvert_exporter": "python",
   "pygments_lexer": "ipython3",
   "version": "3.9.5"
  }
 },
 "nbformat": 4,
 "nbformat_minor": 4
}
